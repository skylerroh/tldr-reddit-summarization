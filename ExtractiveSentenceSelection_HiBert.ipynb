{
  "nbformat": 4,
  "nbformat_minor": 0,
  "metadata": {
    "kernelspec": {
      "display_name": "Python 3",
      "language": "python",
      "name": "python3"
    },
    "language_info": {
      "codemirror_mode": {
        "name": "ipython",
        "version": 3
      },
      "file_extension": ".py",
      "mimetype": "text/x-python",
      "name": "python",
      "nbconvert_exporter": "python",
      "pygments_lexer": "ipython3",
      "version": "3.7.6"
    },
    "colab": {
      "name": "ExtractiveSentenceSelection_HiBert.ipynb",
      "provenance": [],
      "collapsed_sections": [],
      "machine_shape": "hm"
    },
    "accelerator": "GPU",
    "widgets": {
      "application/vnd.jupyter.widget-state+json": {
        "dacac867f68b46c58d74f9ddfe6434ef": {
          "model_module": "@jupyter-widgets/controls",
          "model_name": "HBoxModel",
          "state": {
            "_view_name": "HBoxView",
            "_dom_classes": [],
            "_model_name": "HBoxModel",
            "_view_module": "@jupyter-widgets/controls",
            "_model_module_version": "1.5.0",
            "_view_count": null,
            "_view_module_version": "1.5.0",
            "box_style": "",
            "layout": "IPY_MODEL_384cc96f7bc1475c83de47e3f2ef576e",
            "_model_module": "@jupyter-widgets/controls",
            "children": [
              "IPY_MODEL_69f9ba68076b46cc9b5ad699d8b4bc37",
              "IPY_MODEL_f8f0121da38346878b76f52e24b4a4a2"
            ]
          }
        },
        "384cc96f7bc1475c83de47e3f2ef576e": {
          "model_module": "@jupyter-widgets/base",
          "model_name": "LayoutModel",
          "state": {
            "_view_name": "LayoutView",
            "grid_template_rows": null,
            "right": null,
            "justify_content": null,
            "_view_module": "@jupyter-widgets/base",
            "overflow": null,
            "_model_module_version": "1.2.0",
            "_view_count": null,
            "flex_flow": null,
            "width": null,
            "min_width": null,
            "border": null,
            "align_items": null,
            "bottom": null,
            "_model_module": "@jupyter-widgets/base",
            "top": null,
            "grid_column": null,
            "overflow_y": null,
            "overflow_x": null,
            "grid_auto_flow": null,
            "grid_area": null,
            "grid_template_columns": null,
            "flex": null,
            "_model_name": "LayoutModel",
            "justify_items": null,
            "grid_row": null,
            "max_height": null,
            "align_content": null,
            "visibility": null,
            "align_self": null,
            "height": null,
            "min_height": null,
            "padding": null,
            "grid_auto_rows": null,
            "grid_gap": null,
            "max_width": null,
            "order": null,
            "_view_module_version": "1.2.0",
            "grid_template_areas": null,
            "object_position": null,
            "object_fit": null,
            "grid_auto_columns": null,
            "margin": null,
            "display": null,
            "left": null
          }
        },
        "69f9ba68076b46cc9b5ad699d8b4bc37": {
          "model_module": "@jupyter-widgets/controls",
          "model_name": "FloatProgressModel",
          "state": {
            "_view_name": "ProgressView",
            "style": "IPY_MODEL_ec650270df7a42ee844d096f3bd41334",
            "_dom_classes": [],
            "description": "Downloading: 100%",
            "_model_name": "FloatProgressModel",
            "bar_style": "success",
            "max": 411,
            "_view_module": "@jupyter-widgets/controls",
            "_model_module_version": "1.5.0",
            "value": 411,
            "_view_count": null,
            "_view_module_version": "1.5.0",
            "orientation": "horizontal",
            "min": 0,
            "description_tooltip": null,
            "_model_module": "@jupyter-widgets/controls",
            "layout": "IPY_MODEL_34f635eac03b4ecf963b917194fcc7c1"
          }
        },
        "f8f0121da38346878b76f52e24b4a4a2": {
          "model_module": "@jupyter-widgets/controls",
          "model_name": "HTMLModel",
          "state": {
            "_view_name": "HTMLView",
            "style": "IPY_MODEL_74d86b3bb068465590035c7f46002f8e",
            "_dom_classes": [],
            "description": "",
            "_model_name": "HTMLModel",
            "placeholder": "​",
            "_view_module": "@jupyter-widgets/controls",
            "_model_module_version": "1.5.0",
            "value": " 411/411 [00:04&lt;00:00, 90.4B/s]",
            "_view_count": null,
            "_view_module_version": "1.5.0",
            "description_tooltip": null,
            "_model_module": "@jupyter-widgets/controls",
            "layout": "IPY_MODEL_8aa56c623cb34517b32af4760216e06a"
          }
        },
        "ec650270df7a42ee844d096f3bd41334": {
          "model_module": "@jupyter-widgets/controls",
          "model_name": "ProgressStyleModel",
          "state": {
            "_view_name": "StyleView",
            "_model_name": "ProgressStyleModel",
            "description_width": "initial",
            "_view_module": "@jupyter-widgets/base",
            "_model_module_version": "1.5.0",
            "_view_count": null,
            "_view_module_version": "1.2.0",
            "bar_color": null,
            "_model_module": "@jupyter-widgets/controls"
          }
        },
        "34f635eac03b4ecf963b917194fcc7c1": {
          "model_module": "@jupyter-widgets/base",
          "model_name": "LayoutModel",
          "state": {
            "_view_name": "LayoutView",
            "grid_template_rows": null,
            "right": null,
            "justify_content": null,
            "_view_module": "@jupyter-widgets/base",
            "overflow": null,
            "_model_module_version": "1.2.0",
            "_view_count": null,
            "flex_flow": null,
            "width": null,
            "min_width": null,
            "border": null,
            "align_items": null,
            "bottom": null,
            "_model_module": "@jupyter-widgets/base",
            "top": null,
            "grid_column": null,
            "overflow_y": null,
            "overflow_x": null,
            "grid_auto_flow": null,
            "grid_area": null,
            "grid_template_columns": null,
            "flex": null,
            "_model_name": "LayoutModel",
            "justify_items": null,
            "grid_row": null,
            "max_height": null,
            "align_content": null,
            "visibility": null,
            "align_self": null,
            "height": null,
            "min_height": null,
            "padding": null,
            "grid_auto_rows": null,
            "grid_gap": null,
            "max_width": null,
            "order": null,
            "_view_module_version": "1.2.0",
            "grid_template_areas": null,
            "object_position": null,
            "object_fit": null,
            "grid_auto_columns": null,
            "margin": null,
            "display": null,
            "left": null
          }
        },
        "74d86b3bb068465590035c7f46002f8e": {
          "model_module": "@jupyter-widgets/controls",
          "model_name": "DescriptionStyleModel",
          "state": {
            "_view_name": "StyleView",
            "_model_name": "DescriptionStyleModel",
            "description_width": "",
            "_view_module": "@jupyter-widgets/base",
            "_model_module_version": "1.5.0",
            "_view_count": null,
            "_view_module_version": "1.2.0",
            "_model_module": "@jupyter-widgets/controls"
          }
        },
        "8aa56c623cb34517b32af4760216e06a": {
          "model_module": "@jupyter-widgets/base",
          "model_name": "LayoutModel",
          "state": {
            "_view_name": "LayoutView",
            "grid_template_rows": null,
            "right": null,
            "justify_content": null,
            "_view_module": "@jupyter-widgets/base",
            "overflow": null,
            "_model_module_version": "1.2.0",
            "_view_count": null,
            "flex_flow": null,
            "width": null,
            "min_width": null,
            "border": null,
            "align_items": null,
            "bottom": null,
            "_model_module": "@jupyter-widgets/base",
            "top": null,
            "grid_column": null,
            "overflow_y": null,
            "overflow_x": null,
            "grid_auto_flow": null,
            "grid_area": null,
            "grid_template_columns": null,
            "flex": null,
            "_model_name": "LayoutModel",
            "justify_items": null,
            "grid_row": null,
            "max_height": null,
            "align_content": null,
            "visibility": null,
            "align_self": null,
            "height": null,
            "min_height": null,
            "padding": null,
            "grid_auto_rows": null,
            "grid_gap": null,
            "max_width": null,
            "order": null,
            "_view_module_version": "1.2.0",
            "grid_template_areas": null,
            "object_position": null,
            "object_fit": null,
            "grid_auto_columns": null,
            "margin": null,
            "display": null,
            "left": null
          }
        },
        "5e08261e9ac94650b7dfb4fe29952ce8": {
          "model_module": "@jupyter-widgets/controls",
          "model_name": "HBoxModel",
          "state": {
            "_view_name": "HBoxView",
            "_dom_classes": [],
            "_model_name": "HBoxModel",
            "_view_module": "@jupyter-widgets/controls",
            "_model_module_version": "1.5.0",
            "_view_count": null,
            "_view_module_version": "1.5.0",
            "box_style": "",
            "layout": "IPY_MODEL_b5d56bb3853f421487f475ef1e73d32a",
            "_model_module": "@jupyter-widgets/controls",
            "children": [
              "IPY_MODEL_bfe9c818cdcd4bd398b52c50f8ca5fb6",
              "IPY_MODEL_d8dcabe357924187a67c1077ec9e26a2"
            ]
          }
        },
        "b5d56bb3853f421487f475ef1e73d32a": {
          "model_module": "@jupyter-widgets/base",
          "model_name": "LayoutModel",
          "state": {
            "_view_name": "LayoutView",
            "grid_template_rows": null,
            "right": null,
            "justify_content": null,
            "_view_module": "@jupyter-widgets/base",
            "overflow": null,
            "_model_module_version": "1.2.0",
            "_view_count": null,
            "flex_flow": null,
            "width": null,
            "min_width": null,
            "border": null,
            "align_items": null,
            "bottom": null,
            "_model_module": "@jupyter-widgets/base",
            "top": null,
            "grid_column": null,
            "overflow_y": null,
            "overflow_x": null,
            "grid_auto_flow": null,
            "grid_area": null,
            "grid_template_columns": null,
            "flex": null,
            "_model_name": "LayoutModel",
            "justify_items": null,
            "grid_row": null,
            "max_height": null,
            "align_content": null,
            "visibility": null,
            "align_self": null,
            "height": null,
            "min_height": null,
            "padding": null,
            "grid_auto_rows": null,
            "grid_gap": null,
            "max_width": null,
            "order": null,
            "_view_module_version": "1.2.0",
            "grid_template_areas": null,
            "object_position": null,
            "object_fit": null,
            "grid_auto_columns": null,
            "margin": null,
            "display": null,
            "left": null
          }
        },
        "bfe9c818cdcd4bd398b52c50f8ca5fb6": {
          "model_module": "@jupyter-widgets/controls",
          "model_name": "FloatProgressModel",
          "state": {
            "_view_name": "ProgressView",
            "style": "IPY_MODEL_12543bb696c842869690ae8e302542ae",
            "_dom_classes": [],
            "description": "Downloading: 100%",
            "_model_name": "FloatProgressModel",
            "bar_style": "success",
            "max": 354041576,
            "_view_module": "@jupyter-widgets/controls",
            "_model_module_version": "1.5.0",
            "value": 354041576,
            "_view_count": null,
            "_view_module_version": "1.5.0",
            "orientation": "horizontal",
            "min": 0,
            "description_tooltip": null,
            "_model_module": "@jupyter-widgets/controls",
            "layout": "IPY_MODEL_fd43084ce3164ba59c16900db8a832cc"
          }
        },
        "d8dcabe357924187a67c1077ec9e26a2": {
          "model_module": "@jupyter-widgets/controls",
          "model_name": "HTMLModel",
          "state": {
            "_view_name": "HTMLView",
            "style": "IPY_MODEL_7f090a34021448c4a5be076dcc26c3af",
            "_dom_classes": [],
            "description": "",
            "_model_name": "HTMLModel",
            "placeholder": "​",
            "_view_module": "@jupyter-widgets/controls",
            "_model_module_version": "1.5.0",
            "value": " 354M/354M [00:04&lt;00:00, 87.2MB/s]",
            "_view_count": null,
            "_view_module_version": "1.5.0",
            "description_tooltip": null,
            "_model_module": "@jupyter-widgets/controls",
            "layout": "IPY_MODEL_99545ed9212c4bc092480fa68eb7b8a4"
          }
        },
        "12543bb696c842869690ae8e302542ae": {
          "model_module": "@jupyter-widgets/controls",
          "model_name": "ProgressStyleModel",
          "state": {
            "_view_name": "StyleView",
            "_model_name": "ProgressStyleModel",
            "description_width": "initial",
            "_view_module": "@jupyter-widgets/base",
            "_model_module_version": "1.5.0",
            "_view_count": null,
            "_view_module_version": "1.2.0",
            "bar_color": null,
            "_model_module": "@jupyter-widgets/controls"
          }
        },
        "fd43084ce3164ba59c16900db8a832cc": {
          "model_module": "@jupyter-widgets/base",
          "model_name": "LayoutModel",
          "state": {
            "_view_name": "LayoutView",
            "grid_template_rows": null,
            "right": null,
            "justify_content": null,
            "_view_module": "@jupyter-widgets/base",
            "overflow": null,
            "_model_module_version": "1.2.0",
            "_view_count": null,
            "flex_flow": null,
            "width": null,
            "min_width": null,
            "border": null,
            "align_items": null,
            "bottom": null,
            "_model_module": "@jupyter-widgets/base",
            "top": null,
            "grid_column": null,
            "overflow_y": null,
            "overflow_x": null,
            "grid_auto_flow": null,
            "grid_area": null,
            "grid_template_columns": null,
            "flex": null,
            "_model_name": "LayoutModel",
            "justify_items": null,
            "grid_row": null,
            "max_height": null,
            "align_content": null,
            "visibility": null,
            "align_self": null,
            "height": null,
            "min_height": null,
            "padding": null,
            "grid_auto_rows": null,
            "grid_gap": null,
            "max_width": null,
            "order": null,
            "_view_module_version": "1.2.0",
            "grid_template_areas": null,
            "object_position": null,
            "object_fit": null,
            "grid_auto_columns": null,
            "margin": null,
            "display": null,
            "left": null
          }
        },
        "7f090a34021448c4a5be076dcc26c3af": {
          "model_module": "@jupyter-widgets/controls",
          "model_name": "DescriptionStyleModel",
          "state": {
            "_view_name": "StyleView",
            "_model_name": "DescriptionStyleModel",
            "description_width": "",
            "_view_module": "@jupyter-widgets/base",
            "_model_module_version": "1.5.0",
            "_view_count": null,
            "_view_module_version": "1.2.0",
            "_model_module": "@jupyter-widgets/controls"
          }
        },
        "99545ed9212c4bc092480fa68eb7b8a4": {
          "model_module": "@jupyter-widgets/base",
          "model_name": "LayoutModel",
          "state": {
            "_view_name": "LayoutView",
            "grid_template_rows": null,
            "right": null,
            "justify_content": null,
            "_view_module": "@jupyter-widgets/base",
            "overflow": null,
            "_model_module_version": "1.2.0",
            "_view_count": null,
            "flex_flow": null,
            "width": null,
            "min_width": null,
            "border": null,
            "align_items": null,
            "bottom": null,
            "_model_module": "@jupyter-widgets/base",
            "top": null,
            "grid_column": null,
            "overflow_y": null,
            "overflow_x": null,
            "grid_auto_flow": null,
            "grid_area": null,
            "grid_template_columns": null,
            "flex": null,
            "_model_name": "LayoutModel",
            "justify_items": null,
            "grid_row": null,
            "max_height": null,
            "align_content": null,
            "visibility": null,
            "align_self": null,
            "height": null,
            "min_height": null,
            "padding": null,
            "grid_auto_rows": null,
            "grid_gap": null,
            "max_width": null,
            "order": null,
            "_view_module_version": "1.2.0",
            "grid_template_areas": null,
            "object_position": null,
            "object_fit": null,
            "grid_auto_columns": null,
            "margin": null,
            "display": null,
            "left": null
          }
        }
      }
    }
  },
  "cells": [
    {
      "cell_type": "code",
      "metadata": {
        "id": "PJq45skxeTZd",
        "colab_type": "code",
        "colab": {
          "base_uri": "https://localhost:8080/",
          "height": 1000
        },
        "outputId": "5d12f189-7bd9-46bf-f830-50f293f4fd05"
      },
      "source": [
        "# Colab setup\n",
        "gpu_info = !nvidia-smi\n",
        "gpu_info = '\\n'.join(gpu_info)\n",
        "if gpu_info.find('failed') >= 0:\n",
        "  print('Select the Runtime > \"Change runtime type\" menu to enable a GPU accelerator, ')\n",
        "  print('and then re-execute this cell.')\n",
        "else:\n",
        "  print(gpu_info)\n",
        "\n",
        "!git clone https://github.com/skylerroh/tldr-reddit-summarization.git\n",
        "!cd tldr-reddit-summarization/ && git pull origin master && cd ..\n",
        "!pip install transformers\n",
        "!pip install tf-models-official\n",
        "!pip install rouge-score"
      ],
      "execution_count": 2,
      "outputs": [
        {
          "output_type": "stream",
          "text": [
            "Fri Jul 31 17:52:34 2020       \n",
            "+-----------------------------------------------------------------------------+\n",
            "| NVIDIA-SMI 450.57       Driver Version: 418.67       CUDA Version: 10.1     |\n",
            "|-------------------------------+----------------------+----------------------+\n",
            "| GPU  Name        Persistence-M| Bus-Id        Disp.A | Volatile Uncorr. ECC |\n",
            "| Fan  Temp  Perf  Pwr:Usage/Cap|         Memory-Usage | GPU-Util  Compute M. |\n",
            "|                               |                      |               MIG M. |\n",
            "|===============================+======================+======================|\n",
            "|   0  Tesla P100-PCIE...  Off  | 00000000:00:04.0 Off |                    0 |\n",
            "| N/A   36C    P0    26W / 250W |      0MiB / 16280MiB |      0%      Default |\n",
            "|                               |                      |                 ERR! |\n",
            "+-------------------------------+----------------------+----------------------+\n",
            "                                                                               \n",
            "+-----------------------------------------------------------------------------+\n",
            "| Processes:                                                                  |\n",
            "|  GPU   GI   CI        PID   Type   Process name                  GPU Memory |\n",
            "|        ID   ID                                                   Usage      |\n",
            "|=============================================================================|\n",
            "|  No running processes found                                                 |\n",
            "+-----------------------------------------------------------------------------+\n",
            "Cloning into 'tldr-reddit-summarization'...\n",
            "remote: Enumerating objects: 65, done.\u001b[K\n",
            "remote: Counting objects: 100% (65/65), done.\u001b[K\n",
            "remote: Compressing objects: 100% (46/46), done.\u001b[K\n",
            "remote: Total 65 (delta 27), reused 48 (delta 14), pack-reused 0\u001b[K\n",
            "Unpacking objects: 100% (65/65), done.\n",
            "From https://github.com/skylerroh/tldr-reddit-summarization\n",
            " * branch            master     -> FETCH_HEAD\n",
            "Already up to date.\n",
            "Collecting transformers\n",
            "\u001b[?25l  Downloading https://files.pythonhosted.org/packages/27/3c/91ed8f5c4e7ef3227b4119200fc0ed4b4fd965b1f0172021c25701087825/transformers-3.0.2-py3-none-any.whl (769kB)\n",
            "\u001b[K     |████████████████████████████████| 778kB 2.7MB/s \n",
            "\u001b[?25hRequirement already satisfied: packaging in /usr/local/lib/python3.6/dist-packages (from transformers) (20.4)\n",
            "Requirement already satisfied: dataclasses; python_version < \"3.7\" in /usr/local/lib/python3.6/dist-packages (from transformers) (0.7)\n",
            "Requirement already satisfied: requests in /usr/local/lib/python3.6/dist-packages (from transformers) (2.23.0)\n",
            "Collecting sacremoses\n",
            "\u001b[?25l  Downloading https://files.pythonhosted.org/packages/7d/34/09d19aff26edcc8eb2a01bed8e98f13a1537005d31e95233fd48216eed10/sacremoses-0.0.43.tar.gz (883kB)\n",
            "\u001b[K     |████████████████████████████████| 890kB 7.4MB/s \n",
            "\u001b[?25hCollecting tokenizers==0.8.1.rc1\n",
            "\u001b[?25l  Downloading https://files.pythonhosted.org/packages/40/d0/30d5f8d221a0ed981a186c8eb986ce1c94e3a6e87f994eae9f4aa5250217/tokenizers-0.8.1rc1-cp36-cp36m-manylinux1_x86_64.whl (3.0MB)\n",
            "\u001b[K     |████████████████████████████████| 3.0MB 13.7MB/s \n",
            "\u001b[?25hRequirement already satisfied: numpy in /usr/local/lib/python3.6/dist-packages (from transformers) (1.18.5)\n",
            "Collecting sentencepiece!=0.1.92\n",
            "\u001b[?25l  Downloading https://files.pythonhosted.org/packages/d4/a4/d0a884c4300004a78cca907a6ff9a5e9fe4f090f5d95ab341c53d28cbc58/sentencepiece-0.1.91-cp36-cp36m-manylinux1_x86_64.whl (1.1MB)\n",
            "\u001b[K     |████████████████████████████████| 1.1MB 33.7MB/s \n",
            "\u001b[?25hRequirement already satisfied: filelock in /usr/local/lib/python3.6/dist-packages (from transformers) (3.0.12)\n",
            "Requirement already satisfied: regex!=2019.12.17 in /usr/local/lib/python3.6/dist-packages (from transformers) (2019.12.20)\n",
            "Requirement already satisfied: tqdm>=4.27 in /usr/local/lib/python3.6/dist-packages (from transformers) (4.41.1)\n",
            "Requirement already satisfied: six in /usr/local/lib/python3.6/dist-packages (from packaging->transformers) (1.15.0)\n",
            "Requirement already satisfied: pyparsing>=2.0.2 in /usr/local/lib/python3.6/dist-packages (from packaging->transformers) (2.4.7)\n",
            "Requirement already satisfied: certifi>=2017.4.17 in /usr/local/lib/python3.6/dist-packages (from requests->transformers) (2020.6.20)\n",
            "Requirement already satisfied: chardet<4,>=3.0.2 in /usr/local/lib/python3.6/dist-packages (from requests->transformers) (3.0.4)\n",
            "Requirement already satisfied: urllib3!=1.25.0,!=1.25.1,<1.26,>=1.21.1 in /usr/local/lib/python3.6/dist-packages (from requests->transformers) (1.24.3)\n",
            "Requirement already satisfied: idna<3,>=2.5 in /usr/local/lib/python3.6/dist-packages (from requests->transformers) (2.10)\n",
            "Requirement already satisfied: click in /usr/local/lib/python3.6/dist-packages (from sacremoses->transformers) (7.1.2)\n",
            "Requirement already satisfied: joblib in /usr/local/lib/python3.6/dist-packages (from sacremoses->transformers) (0.16.0)\n",
            "Building wheels for collected packages: sacremoses\n",
            "  Building wheel for sacremoses (setup.py) ... \u001b[?25l\u001b[?25hdone\n",
            "  Created wheel for sacremoses: filename=sacremoses-0.0.43-cp36-none-any.whl size=893260 sha256=711d8775cf393d1a5de0220e83942826290fa54d076ec0c2370f436c7ab87a8c\n",
            "  Stored in directory: /root/.cache/pip/wheels/29/3c/fd/7ce5c3f0666dab31a50123635e6fb5e19ceb42ce38d4e58f45\n",
            "Successfully built sacremoses\n",
            "Installing collected packages: sacremoses, tokenizers, sentencepiece, transformers\n",
            "Successfully installed sacremoses-0.0.43 sentencepiece-0.1.91 tokenizers-0.8.1rc1 transformers-3.0.2\n",
            "Collecting tf-models-official\n",
            "\u001b[?25l  Downloading https://files.pythonhosted.org/packages/5b/33/91e5e90e3e96292717245d3fe87eb3b35b07c8a2113f2da7f482040facdb/tf_models_official-2.3.0-py2.py3-none-any.whl (840kB)\n",
            "\u001b[K     |████████████████████████████████| 849kB 2.6MB/s \n",
            "\u001b[?25hRequirement already satisfied: Cython in /usr/local/lib/python3.6/dist-packages (from tf-models-official) (0.29.21)\n",
            "Requirement already satisfied: gin-config in /usr/local/lib/python3.6/dist-packages (from tf-models-official) (0.3.0)\n",
            "Requirement already satisfied: dataclasses in /usr/local/lib/python3.6/dist-packages (from tf-models-official) (0.7)\n",
            "Requirement already satisfied: google-api-python-client>=1.6.7 in /usr/local/lib/python3.6/dist-packages (from tf-models-official) (1.7.12)\n",
            "Requirement already satisfied: sentencepiece in /usr/local/lib/python3.6/dist-packages (from tf-models-official) (0.1.91)\n",
            "Requirement already satisfied: pyyaml in /usr/local/lib/python3.6/dist-packages (from tf-models-official) (3.13)\n",
            "Requirement already satisfied: tensorflow-datasets in /usr/local/lib/python3.6/dist-packages (from tf-models-official) (2.1.0)\n",
            "Collecting opencv-python-headless\n",
            "\u001b[?25l  Downloading https://files.pythonhosted.org/packages/17/e4/a98a3c3098ea55b6ae193a1cd19a221dc3c1bde87a36db5550addc879d36/opencv_python_headless-4.3.0.36-cp36-cp36m-manylinux2014_x86_64.whl (36.4MB)\n",
            "\u001b[K     |████████████████████████████████| 36.4MB 79kB/s \n",
            "\u001b[?25hRequirement already satisfied: pandas>=0.22.0 in /usr/local/lib/python3.6/dist-packages (from tf-models-official) (1.0.5)\n",
            "Collecting py-cpuinfo>=3.3.0\n",
            "\u001b[?25l  Downloading https://files.pythonhosted.org/packages/f6/f5/8e6e85ce2e9f6e05040cf0d4e26f43a4718bcc4bce988b433276d4b1a5c1/py-cpuinfo-7.0.0.tar.gz (95kB)\n",
            "\u001b[K     |████████████████████████████████| 102kB 12.1MB/s \n",
            "\u001b[?25hRequirement already satisfied: tensorflow-addons in /usr/local/lib/python3.6/dist-packages (from tf-models-official) (0.8.3)\n",
            "Requirement already satisfied: psutil>=5.4.3 in /usr/local/lib/python3.6/dist-packages (from tf-models-official) (5.4.8)\n",
            "Requirement already satisfied: tensorflow-hub>=0.6.0 in /usr/local/lib/python3.6/dist-packages (from tf-models-official) (0.8.0)\n",
            "Requirement already satisfied: kaggle>=1.3.9 in /usr/local/lib/python3.6/dist-packages (from tf-models-official) (1.5.6)\n",
            "Collecting tf-slim>=1.1.0\n",
            "\u001b[?25l  Downloading https://files.pythonhosted.org/packages/02/97/b0f4a64df018ca018cc035d44f2ef08f91e2e8aa67271f6f19633a015ff7/tf_slim-1.1.0-py2.py3-none-any.whl (352kB)\n",
            "\u001b[K     |████████████████████████████████| 358kB 62.6MB/s \n",
            "\u001b[?25hRequirement already satisfied: six in /usr/local/lib/python3.6/dist-packages (from tf-models-official) (1.15.0)\n",
            "Requirement already satisfied: Pillow in /usr/local/lib/python3.6/dist-packages (from tf-models-official) (7.0.0)\n",
            "Requirement already satisfied: scipy>=0.19.1 in /usr/local/lib/python3.6/dist-packages (from tf-models-official) (1.4.1)\n",
            "Requirement already satisfied: matplotlib in /usr/local/lib/python3.6/dist-packages (from tf-models-official) (3.2.2)\n",
            "Requirement already satisfied: numpy>=1.15.4 in /usr/local/lib/python3.6/dist-packages (from tf-models-official) (1.18.5)\n",
            "Collecting tensorflow>=2.3.0\n",
            "\u001b[?25l  Downloading https://files.pythonhosted.org/packages/97/ae/0b08f53498417914f2274cc3b5576d2b83179b0cbb209457d0fde0152174/tensorflow-2.3.0-cp36-cp36m-manylinux2010_x86_64.whl (320.4MB)\n",
            "\u001b[K     |████████████████████████████████| 320.4MB 44kB/s \n",
            "\u001b[?25hRequirement already satisfied: google-cloud-bigquery>=0.31.0 in /usr/local/lib/python3.6/dist-packages (from tf-models-official) (1.21.0)\n",
            "Collecting tensorflow-model-optimization>=0.2.1\n",
            "\u001b[?25l  Downloading https://files.pythonhosted.org/packages/c8/4a/003e16e17c274dd09c81b224b226cdc9902309b905c62a50ebdd0cd12e6d/tensorflow_model_optimization-0.4.0-py2.py3-none-any.whl (169kB)\n",
            "\u001b[K     |████████████████████████████████| 174kB 66.0MB/s \n",
            "\u001b[?25hRequirement already satisfied: uritemplate<4dev,>=3.0.0 in /usr/local/lib/python3.6/dist-packages (from google-api-python-client>=1.6.7->tf-models-official) (3.0.1)\n",
            "Requirement already satisfied: google-auth-httplib2>=0.0.3 in /usr/local/lib/python3.6/dist-packages (from google-api-python-client>=1.6.7->tf-models-official) (0.0.4)\n",
            "Requirement already satisfied: httplib2<1dev,>=0.17.0 in /usr/local/lib/python3.6/dist-packages (from google-api-python-client>=1.6.7->tf-models-official) (0.17.4)\n",
            "Requirement already satisfied: google-auth>=1.4.1 in /usr/local/lib/python3.6/dist-packages (from google-api-python-client>=1.6.7->tf-models-official) (1.17.2)\n",
            "Requirement already satisfied: protobuf>=3.6.1 in /usr/local/lib/python3.6/dist-packages (from tensorflow-datasets->tf-models-official) (3.12.2)\n",
            "Requirement already satisfied: dill in /usr/local/lib/python3.6/dist-packages (from tensorflow-datasets->tf-models-official) (0.3.2)\n",
            "Requirement already satisfied: wrapt in /usr/local/lib/python3.6/dist-packages (from tensorflow-datasets->tf-models-official) (1.12.1)\n",
            "Requirement already satisfied: requests>=2.19.0 in /usr/local/lib/python3.6/dist-packages (from tensorflow-datasets->tf-models-official) (2.23.0)\n",
            "Requirement already satisfied: termcolor in /usr/local/lib/python3.6/dist-packages (from tensorflow-datasets->tf-models-official) (1.1.0)\n",
            "Requirement already satisfied: promise in /usr/local/lib/python3.6/dist-packages (from tensorflow-datasets->tf-models-official) (2.3)\n",
            "Requirement already satisfied: future in /usr/local/lib/python3.6/dist-packages (from tensorflow-datasets->tf-models-official) (0.16.0)\n",
            "Requirement already satisfied: tensorflow-metadata in /usr/local/lib/python3.6/dist-packages (from tensorflow-datasets->tf-models-official) (0.22.2)\n",
            "Requirement already satisfied: tqdm in /usr/local/lib/python3.6/dist-packages (from tensorflow-datasets->tf-models-official) (4.41.1)\n",
            "Requirement already satisfied: attrs>=18.1.0 in /usr/local/lib/python3.6/dist-packages (from tensorflow-datasets->tf-models-official) (19.3.0)\n",
            "Requirement already satisfied: absl-py in /usr/local/lib/python3.6/dist-packages (from tensorflow-datasets->tf-models-official) (0.9.0)\n",
            "Requirement already satisfied: pytz>=2017.2 in /usr/local/lib/python3.6/dist-packages (from pandas>=0.22.0->tf-models-official) (2018.9)\n",
            "Requirement already satisfied: python-dateutil>=2.6.1 in /usr/local/lib/python3.6/dist-packages (from pandas>=0.22.0->tf-models-official) (2.8.1)\n",
            "Requirement already satisfied: typeguard in /usr/local/lib/python3.6/dist-packages (from tensorflow-addons->tf-models-official) (2.7.1)\n",
            "Requirement already satisfied: urllib3<1.25,>=1.21.1 in /usr/local/lib/python3.6/dist-packages (from kaggle>=1.3.9->tf-models-official) (1.24.3)\n",
            "Requirement already satisfied: certifi in /usr/local/lib/python3.6/dist-packages (from kaggle>=1.3.9->tf-models-official) (2020.6.20)\n",
            "Requirement already satisfied: python-slugify in /usr/local/lib/python3.6/dist-packages (from kaggle>=1.3.9->tf-models-official) (4.0.1)\n",
            "Requirement already satisfied: pyparsing!=2.0.4,!=2.1.2,!=2.1.6,>=2.0.1 in /usr/local/lib/python3.6/dist-packages (from matplotlib->tf-models-official) (2.4.7)\n",
            "Requirement already satisfied: kiwisolver>=1.0.1 in /usr/local/lib/python3.6/dist-packages (from matplotlib->tf-models-official) (1.2.0)\n",
            "Requirement already satisfied: cycler>=0.10 in /usr/local/lib/python3.6/dist-packages (from matplotlib->tf-models-official) (0.10.0)\n",
            "Requirement already satisfied: h5py<2.11.0,>=2.10.0 in /usr/local/lib/python3.6/dist-packages (from tensorflow>=2.3.0->tf-models-official) (2.10.0)\n",
            "Requirement already satisfied: keras-preprocessing<1.2,>=1.1.1 in /usr/local/lib/python3.6/dist-packages (from tensorflow>=2.3.0->tf-models-official) (1.1.2)\n",
            "Collecting tensorflow-estimator<2.4.0,>=2.3.0\n",
            "\u001b[?25l  Downloading https://files.pythonhosted.org/packages/e9/ed/5853ec0ae380cba4588eab1524e18ece1583b65f7ae0e97321f5ff9dfd60/tensorflow_estimator-2.3.0-py2.py3-none-any.whl (459kB)\n",
            "\u001b[K     |████████████████████████████████| 460kB 68.0MB/s \n",
            "\u001b[?25hRequirement already satisfied: gast==0.3.3 in /usr/local/lib/python3.6/dist-packages (from tensorflow>=2.3.0->tf-models-official) (0.3.3)\n",
            "Requirement already satisfied: grpcio>=1.8.6 in /usr/local/lib/python3.6/dist-packages (from tensorflow>=2.3.0->tf-models-official) (1.30.0)\n",
            "Collecting tensorboard<3,>=2.3.0\n",
            "\u001b[?25l  Downloading https://files.pythonhosted.org/packages/e9/1b/6a420d7e6ba431cf3d51b2a5bfa06a958c4141e3189385963dc7f6fbffb6/tensorboard-2.3.0-py3-none-any.whl (6.8MB)\n",
            "\u001b[K     |████████████████████████████████| 6.8MB 15.8MB/s \n",
            "\u001b[?25hRequirement already satisfied: wheel>=0.26 in /usr/local/lib/python3.6/dist-packages (from tensorflow>=2.3.0->tf-models-official) (0.34.2)\n",
            "Requirement already satisfied: astunparse==1.6.3 in /usr/local/lib/python3.6/dist-packages (from tensorflow>=2.3.0->tf-models-official) (1.6.3)\n",
            "Requirement already satisfied: google-pasta>=0.1.8 in /usr/local/lib/python3.6/dist-packages (from tensorflow>=2.3.0->tf-models-official) (0.2.0)\n",
            "Requirement already satisfied: opt-einsum>=2.3.2 in /usr/local/lib/python3.6/dist-packages (from tensorflow>=2.3.0->tf-models-official) (3.3.0)\n",
            "Requirement already satisfied: google-resumable-media!=0.4.0,<0.5.0dev,>=0.3.1 in /usr/local/lib/python3.6/dist-packages (from google-cloud-bigquery>=0.31.0->tf-models-official) (0.4.1)\n",
            "Requirement already satisfied: google-cloud-core<2.0dev,>=1.0.3 in /usr/local/lib/python3.6/dist-packages (from google-cloud-bigquery>=0.31.0->tf-models-official) (1.0.3)\n",
            "Collecting dm-tree~=0.1.1\n",
            "\u001b[?25l  Downloading https://files.pythonhosted.org/packages/16/48/10fb721334810081b7e6eebeba0d12e12126c76993e8c243062d2f56a89f/dm_tree-0.1.5-cp36-cp36m-manylinux1_x86_64.whl (294kB)\n",
            "\u001b[K     |████████████████████████████████| 296kB 60.5MB/s \n",
            "\u001b[?25hRequirement already satisfied: pyasn1-modules>=0.2.1 in /usr/local/lib/python3.6/dist-packages (from google-auth>=1.4.1->google-api-python-client>=1.6.7->tf-models-official) (0.2.8)\n",
            "Requirement already satisfied: setuptools>=40.3.0 in /usr/local/lib/python3.6/dist-packages (from google-auth>=1.4.1->google-api-python-client>=1.6.7->tf-models-official) (49.2.0)\n",
            "Requirement already satisfied: cachetools<5.0,>=2.0.0 in /usr/local/lib/python3.6/dist-packages (from google-auth>=1.4.1->google-api-python-client>=1.6.7->tf-models-official) (4.1.1)\n",
            "Requirement already satisfied: rsa<5,>=3.1.4; python_version >= \"3\" in /usr/local/lib/python3.6/dist-packages (from google-auth>=1.4.1->google-api-python-client>=1.6.7->tf-models-official) (4.6)\n",
            "Requirement already satisfied: chardet<4,>=3.0.2 in /usr/local/lib/python3.6/dist-packages (from requests>=2.19.0->tensorflow-datasets->tf-models-official) (3.0.4)\n",
            "Requirement already satisfied: idna<3,>=2.5 in /usr/local/lib/python3.6/dist-packages (from requests>=2.19.0->tensorflow-datasets->tf-models-official) (2.10)\n",
            "Requirement already satisfied: googleapis-common-protos in /usr/local/lib/python3.6/dist-packages (from tensorflow-metadata->tensorflow-datasets->tf-models-official) (1.52.0)\n",
            "Requirement already satisfied: text-unidecode>=1.3 in /usr/local/lib/python3.6/dist-packages (from python-slugify->kaggle>=1.3.9->tf-models-official) (1.3)\n",
            "Requirement already satisfied: google-auth-oauthlib<0.5,>=0.4.1 in /usr/local/lib/python3.6/dist-packages (from tensorboard<3,>=2.3.0->tensorflow>=2.3.0->tf-models-official) (0.4.1)\n",
            "Requirement already satisfied: markdown>=2.6.8 in /usr/local/lib/python3.6/dist-packages (from tensorboard<3,>=2.3.0->tensorflow>=2.3.0->tf-models-official) (3.2.2)\n",
            "Requirement already satisfied: tensorboard-plugin-wit>=1.6.0 in /usr/local/lib/python3.6/dist-packages (from tensorboard<3,>=2.3.0->tensorflow>=2.3.0->tf-models-official) (1.7.0)\n",
            "Requirement already satisfied: werkzeug>=0.11.15 in /usr/local/lib/python3.6/dist-packages (from tensorboard<3,>=2.3.0->tensorflow>=2.3.0->tf-models-official) (1.0.1)\n",
            "Requirement already satisfied: google-api-core<2.0.0dev,>=1.14.0 in /usr/local/lib/python3.6/dist-packages (from google-cloud-core<2.0dev,>=1.0.3->google-cloud-bigquery>=0.31.0->tf-models-official) (1.16.0)\n",
            "Requirement already satisfied: pyasn1<0.5.0,>=0.4.6 in /usr/local/lib/python3.6/dist-packages (from pyasn1-modules>=0.2.1->google-auth>=1.4.1->google-api-python-client>=1.6.7->tf-models-official) (0.4.8)\n",
            "Requirement already satisfied: requests-oauthlib>=0.7.0 in /usr/local/lib/python3.6/dist-packages (from google-auth-oauthlib<0.5,>=0.4.1->tensorboard<3,>=2.3.0->tensorflow>=2.3.0->tf-models-official) (1.3.0)\n",
            "Requirement already satisfied: importlib-metadata; python_version < \"3.8\" in /usr/local/lib/python3.6/dist-packages (from markdown>=2.6.8->tensorboard<3,>=2.3.0->tensorflow>=2.3.0->tf-models-official) (1.7.0)\n",
            "Requirement already satisfied: oauthlib>=3.0.0 in /usr/local/lib/python3.6/dist-packages (from requests-oauthlib>=0.7.0->google-auth-oauthlib<0.5,>=0.4.1->tensorboard<3,>=2.3.0->tensorflow>=2.3.0->tf-models-official) (3.1.0)\n",
            "Requirement already satisfied: zipp>=0.5 in /usr/local/lib/python3.6/dist-packages (from importlib-metadata; python_version < \"3.8\"->markdown>=2.6.8->tensorboard<3,>=2.3.0->tensorflow>=2.3.0->tf-models-official) (3.1.0)\n",
            "Building wheels for collected packages: py-cpuinfo\n",
            "  Building wheel for py-cpuinfo (setup.py) ... \u001b[?25l\u001b[?25hdone\n",
            "  Created wheel for py-cpuinfo: filename=py_cpuinfo-7.0.0-cp36-none-any.whl size=20069 sha256=8ba0cb39199e73790e346939c00410789565851b8b2a43902e34a99024d76fe6\n",
            "  Stored in directory: /root/.cache/pip/wheels/f1/93/7b/127daf0c3a5a49feb2fecd468d508067c733fba5192f726ad1\n",
            "Successfully built py-cpuinfo\n",
            "Installing collected packages: opencv-python-headless, py-cpuinfo, tf-slim, tensorflow-estimator, tensorboard, tensorflow, dm-tree, tensorflow-model-optimization, tf-models-official\n",
            "  Found existing installation: tensorflow-estimator 2.2.0\n",
            "    Uninstalling tensorflow-estimator-2.2.0:\n",
            "      Successfully uninstalled tensorflow-estimator-2.2.0\n",
            "  Found existing installation: tensorboard 2.2.2\n",
            "    Uninstalling tensorboard-2.2.2:\n",
            "      Successfully uninstalled tensorboard-2.2.2\n",
            "  Found existing installation: tensorflow 2.2.0\n",
            "    Uninstalling tensorflow-2.2.0:\n",
            "      Successfully uninstalled tensorflow-2.2.0\n",
            "Successfully installed dm-tree-0.1.5 opencv-python-headless-4.3.0.36 py-cpuinfo-7.0.0 tensorboard-2.3.0 tensorflow-2.3.0 tensorflow-estimator-2.3.0 tensorflow-model-optimization-0.4.0 tf-models-official-2.3.0 tf-slim-1.1.0\n",
            "Collecting rouge-score\n",
            "  Downloading https://files.pythonhosted.org/packages/1f/56/a81022436c08b9405a5247b71635394d44fe7e1dbedc4b28c740e09c2840/rouge_score-0.0.4-py2.py3-none-any.whl\n",
            "Requirement already satisfied: numpy in /usr/local/lib/python3.6/dist-packages (from rouge-score) (1.18.5)\n",
            "Requirement already satisfied: absl-py in /usr/local/lib/python3.6/dist-packages (from rouge-score) (0.9.0)\n",
            "Requirement already satisfied: six>=1.14.0 in /usr/local/lib/python3.6/dist-packages (from rouge-score) (1.15.0)\n",
            "Requirement already satisfied: nltk in /usr/local/lib/python3.6/dist-packages (from rouge-score) (3.2.5)\n",
            "Installing collected packages: rouge-score\n",
            "Successfully installed rouge-score-0.0.4\n"
          ],
          "name": "stdout"
        }
      ]
    },
    {
      "cell_type": "code",
      "metadata": {
        "id": "i0JJk_iFeA3I",
        "colab_type": "code",
        "colab": {
          "base_uri": "https://localhost:8080/",
          "height": 71
        },
        "outputId": "c7be2579-19fa-451b-b675-d4e49fd750e9"
      },
      "source": [
        "%load_ext autoreload\n",
        "%autoreload 2\n",
        "import json\n",
        "import random\n",
        "import sys\n",
        "# sys.path.append('/Users/skylerroh/mids/tldr-reddit-summarization')\n",
        "sys.path.append('tldr-reddit-summarization') # colab\n",
        "import numpy as np\n",
        "import seaborn as sns\n",
        "import matplotlib.pyplot as plt\n",
        "from collections import Counter\n",
        "\n",
        "from preprocess import utils\n",
        "from preprocess import preprocessing\n",
        "\n",
        "import tensorflow as tf\n",
        "from tensorflow.keras import layers\n",
        "from tensorflow.keras.backend import sparse_categorical_crossentropy\n",
        "from tensorflow.keras.layers import Dense, Flatten\n",
        "\n",
        "import nltk\n",
        "from nltk.tokenize import sent_tokenize\n",
        "from transformers import DistilBertTokenizer, TFDistilBertModel\n",
        "from lr_schedule import optimizer_w_warmup\n",
        "from official import nlp\n",
        "import official.nlp.optimization\n",
        "import rouge_score\n",
        "%matplotlib inline"
      ],
      "execution_count": 3,
      "outputs": [
        {
          "output_type": "stream",
          "text": [
            "/usr/local/lib/python3.6/dist-packages/statsmodels/tools/_testing.py:19: FutureWarning: pandas.util.testing is deprecated. Use the functions in the public API at pandas.testing instead.\n",
            "  import pandas.util.testing as tm\n"
          ],
          "name": "stderr"
        }
      ]
    },
    {
      "cell_type": "code",
      "metadata": {
        "id": "tGFiuPR6pA1g",
        "colab_type": "code",
        "colab": {
          "base_uri": "https://localhost:8080/",
          "height": 122
        },
        "outputId": "8e754d83-6cd6-4e08-9d9e-e1501c3dccb4"
      },
      "source": [
        "from google.colab import drive\n",
        "drive.mount('/content/gdrive')"
      ],
      "execution_count": 4,
      "outputs": [
        {
          "output_type": "stream",
          "text": [
            "Go to this URL in a browser: https://accounts.google.com/o/oauth2/auth?client_id=947318989803-6bn6qk8qdgf4n4g3pfee6491hc0brc4i.apps.googleusercontent.com&redirect_uri=urn%3aietf%3awg%3aoauth%3a2.0%3aoob&response_type=code&scope=email%20https%3a%2f%2fwww.googleapis.com%2fauth%2fdocs.test%20https%3a%2f%2fwww.googleapis.com%2fauth%2fdrive%20https%3a%2f%2fwww.googleapis.com%2fauth%2fdrive.photos.readonly%20https%3a%2f%2fwww.googleapis.com%2fauth%2fpeopleapi.readonly\n",
            "\n",
            "Enter your authorization code:\n",
            "··········\n",
            "Mounted at /content/gdrive\n"
          ],
          "name": "stdout"
        }
      ]
    },
    {
      "cell_type": "code",
      "metadata": {
        "id": "wx20CbUseA3i",
        "colab_type": "code",
        "colab": {
          "base_uri": "https://localhost:8080/",
          "height": 102
        },
        "outputId": "25f45a3e-69c4-4a6a-e013-fe88822a70b4"
      },
      "source": [
        "print(f'tf_version: {tf.__version__}')\n",
        "print(f'nltk_version: {nltk.__version__}')\n",
        "nltk.download('punkt')"
      ],
      "execution_count": 5,
      "outputs": [
        {
          "output_type": "stream",
          "text": [
            "tf_version: 2.3.0\n",
            "nltk_version: 3.2.5\n",
            "[nltk_data] Downloading package punkt to /root/nltk_data...\n",
            "[nltk_data]   Unzipping tokenizers/punkt.zip.\n"
          ],
          "name": "stdout"
        },
        {
          "output_type": "execute_result",
          "data": {
            "text/plain": [
              "True"
            ]
          },
          "metadata": {
            "tags": []
          },
          "execution_count": 5
        }
      ]
    },
    {
      "cell_type": "code",
      "metadata": {
        "id": "rZpTIiaUeA3t",
        "colab_type": "code",
        "colab": {}
      },
      "source": [
        "tokenizer = DistilBertTokenizer.from_pretrained('distilbert-base-cased')\n",
        "PAD_TOKEN_ID = tokenizer.convert_tokens_to_ids('[PAD]')\n",
        "CLS_TOKEN_ID = tokenizer.convert_tokens_to_ids('[CLS]')\n",
        "SEP_TOKEN_ID = tokenizer.convert_tokens_to_ids('[SEP]')\n",
        "MAX_SENT_LENGTH = 40\n",
        "MAX_DOC_LENGTH = 40"
      ],
      "execution_count": 7,
      "outputs": []
    },
    {
      "cell_type": "markdown",
      "metadata": {
        "id": "2FC7SyA0eA36",
        "colab_type": "text"
      },
      "source": [
        "# Create BERT input for extractive summarization"
      ]
    },
    {
      "cell_type": "code",
      "metadata": {
        "id": "qwWWtgd5eA38",
        "colab_type": "code",
        "colab": {}
      },
      "source": [
        "def TFExampleToSentences(example, max_sentences=5, max_unigrams=256):\n",
        "    doc_sent_list = [s.split() for s in sent_tokenize(example['inputs'].numpy().decode('utf-8'))]\n",
        "    abstract_sent_list = [s.split() for s in sent_tokenize(example['targets'].numpy().decode('utf-8'))]\n",
        "    extractive_sentence_ids = preprocessing.greedy_selection(doc_sent_list, \n",
        "                                               abstract_sent_list, \n",
        "                                               summary_size_sentences=max_sentences, \n",
        "                                               summary_size_unigrams=max_unigrams)\n",
        "#     print(f'len of original post: {sum([len(s) for s in doc_sent_list])}')\n",
        "#     print(f'len of extracted post: {sum([len(doc_sent_list[i]) for i in extractive_sentence_ids])}')\n",
        "#     print(f'len of original summary: {sum([len(s) for s in abstract_sent_list])}')\n",
        "#     print(sorted([i / len(doc_sent_list) for i in extractive_sentence_ids]))\n",
        "#     print(sum([len(i) for i in doc_sent_list]) / len(doc_sent_list))\n",
        "#     print(len(doc_sent_list))\n",
        "    locations = sorted([i / len(doc_sent_list) for i in extractive_sentence_ids])\n",
        "    return doc_sent_list, extractive_sentence_ids, locations"
      ],
      "execution_count": 8,
      "outputs": []
    },
    {
      "cell_type": "code",
      "metadata": {
        "id": "o7jfa7bkeA4E",
        "colab_type": "code",
        "colab": {}
      },
      "source": [
        "# input for HiBert architecture\n",
        "\n",
        "np.random.seed(20200720)\n",
        "\n",
        "def encodeSentence(sentence, max_sent_length):\n",
        "    src_tokens = tokenizer.tokenize(sentence)\n",
        "    src_tokens = ['[CLS]'] + src_tokens\n",
        "    src_tokens = src_tokens[:max_sent_length]\n",
        "    src_tokens += ['[PAD]'] * (max_sent_length - len(src_tokens))\n",
        "    src_mask = [1] * len(src_tokens) + [0] * (max_sent_length - len(src_tokens))\n",
        "    return src_tokens, src_mask\n",
        "\n",
        "def sentencesToHiBert(doc_sent_list, extractive_sentence_ids, max_sent_length=40, max_num_sentences=32, min_sent_length=5):\n",
        "    num_sent = len(doc_sent_list)\n",
        "    labels = []\n",
        "        \n",
        "    word_tokens_list, word_token_ids_list, word_mask_list = [], [], []\n",
        "    \n",
        "    num_sent = 0\n",
        "    for i, sent in enumerate(doc_sent_list):\n",
        "        if len(sent) < min_sent_length:\n",
        "            continue\n",
        "        word_tokens, word_mask = encodeSentence(' '.join(sent), max_sent_length)\n",
        "        word_token_ids = tokenizer.convert_tokens_to_ids(word_tokens)\n",
        "        word_tokens_list.append(word_tokens)\n",
        "        word_token_ids_list.append(word_token_ids)\n",
        "        word_mask_list.append(word_mask)\n",
        "        num_sent += 1\n",
        "        labels.append(int(i in extractive_sentence_ids))\n",
        "           \n",
        "        \n",
        "    \n",
        "    all_PAD = ['CLS'] + ['[PAD]'] * (max_sent_length - 1)\n",
        "    all_PAD_ids = [CLS_TOKEN_ID] + [PAD_TOKEN_ID] * (max_sent_length - 1)\n",
        "    \n",
        "    add_sentences = max_num_sentences - num_sent\n",
        "    sent_mask = [1] * max_num_sentences\n",
        "    if add_sentences > 0:\n",
        "        word_tokens_list += [all_PAD for _ in range(add_sentences)]\n",
        "        word_token_ids_list += [all_PAD_ids for _ in range(add_sentences)]\n",
        "        word_mask_list += [[0] * max_sent_length for _ in range(add_sentences)]\n",
        "        sent_mask = [1] * num_sent + [0] * (add_sentences)\n",
        "        labels += [2] * add_sentences\n",
        "    elif add_sentences < 0:\n",
        "        start = max_num_sentences // 2\n",
        "        end = num_sent - (max_num_sentences - (max_num_sentences // 2))\n",
        "        \n",
        "        word_tokens_list = word_tokens_list[:start] + word_tokens_list[end:]\n",
        "        word_token_ids_list = word_token_ids_list[:start] + word_token_ids_list[end:]\n",
        "        word_mask_list = word_mask_list[:start] + word_mask_list[end:]\n",
        "        labels = labels[:start] + labels[end:]\n",
        "    \n",
        "    return word_tokens_list, word_token_ids_list, word_mask_list, sent_mask, labels\n",
        "\n",
        "\n"
      ],
      "execution_count": 9,
      "outputs": []
    },
    {
      "cell_type": "code",
      "metadata": {
        "id": "uwnlUXzjeA4R",
        "colab_type": "code",
        "colab": {
          "base_uri": "https://localhost:8080/",
          "height": 119
        },
        "outputId": "3add9839-3774-47fe-8034-af72cf2c0f83"
      },
      "source": [
        "data = {}\n",
        "\n",
        "for key, f in [('eval', 'eval_top50_5k.tfrecord')]:#, ('train', 'train_top50_100k.tfrecord')]: \n",
        "    print(f\"{key} data\")\n",
        "    word_token_ids_list = []\n",
        "    word_lvl_masks_list = []\n",
        "    sent_lvl_masks_list = []\n",
        "    labels_list = []\n",
        "\n",
        "    dataset = utils.build(f, False)\n",
        "    doc_num_sentences = []\n",
        "    doc_num_tokens = []\n",
        "\n",
        "    for i, example in enumerate(dataset):\n",
        "        if i % 10**4==0:\n",
        "            print(i)\n",
        "        doc_sent_list, extractive_sentence_ids, locations = TFExampleToSentences(example)\n",
        "        doc_num_sentences.append(len(doc_sent_list))\n",
        "\n",
        "        word_tokens, word_token_ids, word_mask, sent_mask, labels = sentencesToHiBert(doc_sent_list, \n",
        "                                                                                      extractive_sentence_ids, \n",
        "                                                                                      max_sent_length=MAX_SENT_LENGTH, \n",
        "                                                                                      max_num_sentences=MAX_DOC_LENGTH,\n",
        "                                                                                      min_sent_length=4)\n",
        "        \n",
        "        doc_num_tokens.append(sum([sum(m) - 1 if sum(m) > 0 else sum(m) for m in word_mask]))\n",
        "\n",
        "        word_token_ids_list.append(word_token_ids)\n",
        "        word_lvl_masks_list.append(word_mask)\n",
        "        sent_lvl_masks_list.append(sent_mask)\n",
        "        labels_list.append(labels)\n",
        "    print(i+1, \"examples in\", key)\n",
        "    indices = np.arange(len(word_token_ids_list))\n",
        "    np.random.shuffle(indices)\n",
        "    print(indices[:5])\n",
        "\n",
        "    print(\"Mean number of sentences:\", sum(doc_num_sentences) / len(doc_num_sentences))\n",
        "    print(\"Mean number of tokens:\", sum([nt / len(doc_num_tokens) for nt in doc_num_tokens]))\n",
        "              \n",
        "    data[key] = {\"input_ids\":np.array(word_token_ids_list)[indices], \n",
        "                 \"input_word_masks\": np.array(word_lvl_masks_list)[indices], \n",
        "                 \"input_sentence_masks\": np.array(sent_lvl_masks_list)[indices],\n",
        "                 \"labels\": np.array(labels_list)[indices]}"
      ],
      "execution_count": 22,
      "outputs": [
        {
          "output_type": "stream",
          "text": [
            "eval data\n",
            "0\n",
            "4362 examples in eval\n",
            "[ 784 4231 1196 2235  273]\n",
            "Mean number of sentences: 19.73016964695094\n",
            "Mean number of tokens: 644.3046767537837\n"
          ],
          "name": "stdout"
        }
      ]
    },
    {
      "cell_type": "code",
      "metadata": {
        "id": "8dE5AFZ6HMD4",
        "colab_type": "code",
        "colab": {}
      },
      "source": [
        "def get_data(data, key, batch_size, limit=None):\n",
        "    if not limit:\n",
        "        limit = len(data[key]['input_ids'])\n",
        "    if batch_size:\n",
        "        limit = (limit//batch_size) * batch_size\n",
        "    return [data[key][i][:limit] for i in ['input_ids', 'input_word_masks', 'input_sentence_masks']]\n",
        "            \n",
        "def get_labels(data, key, batch_size, limit=None):\n",
        "    if not limit:\n",
        "        limit = len(data[key]['input_ids'])\n",
        "    if batch_size:\n",
        "        limit = (limit//batch_size) * batch_size\n",
        "    return data[key]['labels'][:limit]"
      ],
      "execution_count": 23,
      "outputs": []
    },
    {
      "cell_type": "markdown",
      "metadata": {
        "id": "cba3fvSUJF_e",
        "colab_type": "text"
      },
      "source": [
        "## Utility Methods"
      ]
    },
    {
      "cell_type": "code",
      "metadata": {
        "id": "43P9uZuSeA4z",
        "colab_type": "code",
        "colab": {}
      },
      "source": [
        "def mask_and_reshape(y_true, y_pred):\n",
        "    y_label = tf.reshape(Flatten()(tf.cast(y_true, tf.int32)),[-1])\n",
        "    \n",
        "    mask = (y_label < 2)   # This mask is used to remove all tokens that do not correspond to the original base text.\n",
        "\n",
        "    y_label_masked = tf.boolean_mask(y_label, mask)  # mask the labels\n",
        "    \n",
        "    y_flat_pred = tf.reshape(Flatten()(tf.cast(y_pred, tf.float32)),[-1, 3]) # there are 3 possible labels\n",
        "    \n",
        "    y_flat_pred_masked = tf.boolean_mask(y_flat_pred, mask) # mask the predictions\n",
        "    \n",
        "    return y_label_masked, y_flat_pred_masked\n",
        "\n",
        "\n",
        "def set_pad_value(mask, y, y_pad_value=0, dtype=tf.float32):\n",
        "    pad_replace = tf.where(mask, y, tf.constant(y_pad_value, dtype=tf.float32))\n",
        "    return pad_replace\n",
        "\n",
        "\n",
        "def custom_crossentropy_loss(y_true, y_pred):\n",
        "    \"\"\"\n",
        "    calculate loss function explicitly, filtering out 'extra inserted labels'\n",
        "    \n",
        "    y_true: Shape: (batch x (max_length + 1) )\n",
        "    y_pred: predictions. Shape: (batch x x (max_length + 1) x num_distinct_ner_tokens ) \n",
        "    \n",
        "    returns:  cost\n",
        "    \"\"\"\n",
        "    y_label_masked, y_flat_pred_masked = mask_and_reshape(y_true, y_pred)\n",
        "    return tf.reduce_mean(sparse_categorical_crossentropy(y_label_masked, y_flat_pred_masked,from_logits=False))\n",
        "\n",
        "\n",
        "def get_class_predictions(pred, class_id):\n",
        "    B, S, P = pred.shape\n",
        "    pos_pred_slice = tf.squeeze(tf.slice(pred, [0, 0, class_id], [B, S, 1]), axis=2)\n",
        "    return pos_pred_slice\n",
        "\n",
        "\n",
        "def custom_recall_top_k(y_true, y_pred, k):\n",
        "    mask = (y_true < 2)\n",
        "    \n",
        "    B, S, P = y_pred.shape\n",
        "    \n",
        "    y_true = tf.reshape(y_true, [B, S])\n",
        "    pos_pred_slice = get_class_predictions(y_pred, class_id=1)\n",
        "    y_label_masked = set_pad_value(mask, y_true, 0, tf.int64)\n",
        "    y_1_pred_masked = set_pad_value(mask, pos_pred_slice, -float('Inf'), tf.float32)\n",
        "\n",
        "    top_values, top_indices = tf.nn.top_k(y_1_pred_masked, k=k)\n",
        "    top_k_labels = tf.gather(y_label_masked, top_indices, batch_dims=1)\n",
        "    recall_top_k = tf.math.reduce_sum(top_k_labels, axis=1) / (tf.math.reduce_sum(y_label_masked, axis=1) + tf.constant(1.0e-8))\n",
        "    # mask where none labeled as 1\n",
        "    recall_top_k_masked = tf.boolean_mask(recall_top_k, tf.math.is_finite(recall_top_k))\n",
        "    return tf.reduce_mean(recall_top_k_masked)\n",
        "\n",
        "\n",
        "def custom_recall_top_5(y_true, y_pred):\n",
        "    return custom_recall_top_k(y_true, y_pred, 5)\n",
        "\n",
        "\n",
        "def custom_recall_top_10(y_true, y_pred):\n",
        "    return custom_recall_top_k(y_true, y_pred, 10)\n",
        "\n",
        "\n",
        "def custom_recall_top_20(y_true, y_pred):\n",
        "    return custom_recall_top_k(y_true, y_pred, 20)"
      ],
      "execution_count": 11,
      "outputs": []
    },
    {
      "cell_type": "code",
      "metadata": {
        "id": "3F5Kyw-Nr664",
        "colab_type": "code",
        "colab": {
          "base_uri": "https://localhost:8080/",
          "height": 34
        },
        "outputId": "2c10682a-012a-4d56-96ed-f46169b5d88b"
      },
      "source": [
        "y_true = tf.constant([[1, 0, 2]])\n",
        "\n",
        "y_pred = tf.constant([[\n",
        "    [0.6,0.4,0],\n",
        "    [0.5,0.2,0.3],\n",
        "    [1, 0, 0]\n",
        "]], shape=[1, 3, 3])\n",
        "\n",
        "custom_crossentropy_loss(y_true, y_pred)"
      ],
      "execution_count": 12,
      "outputs": [
        {
          "output_type": "execute_result",
          "data": {
            "text/plain": [
              "<tf.Tensor: shape=(), dtype=float32, numpy=0.804719>"
            ]
          },
          "metadata": {
            "tags": []
          },
          "execution_count": 12
        }
      ]
    },
    {
      "cell_type": "code",
      "metadata": {
        "id": "dQ24woOjsxq5",
        "colab_type": "code",
        "colab": {
          "base_uri": "https://localhost:8080/",
          "height": 34
        },
        "outputId": "a7b7758b-c8bf-45cb-fbf9-1db1d2c31126"
      },
      "source": [
        "(-np.log(0.4) + -np.log(0.5)) / 2"
      ],
      "execution_count": 13,
      "outputs": [
        {
          "output_type": "execute_result",
          "data": {
            "text/plain": [
              "0.8047189562170501"
            ]
          },
          "metadata": {
            "tags": []
          },
          "execution_count": 13
        }
      ]
    },
    {
      "cell_type": "code",
      "metadata": {
        "id": "AmCr2sdPeA45",
        "colab_type": "code",
        "colab": {
          "base_uri": "https://localhost:8080/",
          "height": 51
        },
        "outputId": "cce83c8c-d265-45ab-e00f-3ffd9be042ab"
      },
      "source": [
        "preds = tf.constant([[0.1, 0.9, 0.2],\n",
        "                    [0.5, 0.5, 0.5],\n",
        "                    [0.1, 0.6, 0.0],\n",
        "                    [0.2, 0.1, 0.0]], tf.float32)\n",
        "labels = tf.constant([[0, 1, 1],\n",
        "                      [1, 0, 0],\n",
        "                      [0, 1, 1],\n",
        "                      [1, 1, 0]], tf.int32)\n",
        "print(preds.shape)\n",
        "print(labels.shape)"
      ],
      "execution_count": 14,
      "outputs": [
        {
          "output_type": "stream",
          "text": [
            "(4, 3)\n",
            "(4, 3)\n"
          ],
          "name": "stdout"
        }
      ]
    },
    {
      "cell_type": "markdown",
      "metadata": {
        "id": "LAK2D0RzCPhD",
        "colab_type": "text"
      },
      "source": [
        "## Model Layers"
      ]
    },
    {
      "cell_type": "code",
      "metadata": {
        "id": "8yKw-IzY7m4H",
        "colab_type": "code",
        "colab": {}
      },
      "source": [
        "class SentenceBertLayer(tf.keras.layers.Layer):\n",
        "    def __init__(self, transformer, sent_embed_method='average'):\n",
        "        super(SentenceBertLayer, self).__init__()\n",
        "        self.transformer = transformer\n",
        "        self.sent_embed_method = sent_embed_method\n",
        "    \n",
        "    def __call__(self, input):\n",
        "        in_id, in_mask = input\n",
        "        batch_size = in_id.shape[0]\n",
        "        num_sentences = in_id.shape[1]\n",
        "        transformer_embedding_size = 768\n",
        "        \n",
        "        init_encode = tf.zeros([BATCH_SIZE, num_sentences, transformer_embedding_size], dtype=tf.float32)\n",
        "        _, _, _, encoded = tf.while_loop(\n",
        "            self.loop_cond, self.encode_loop,\n",
        "            [tf.constant(0, dtype=tf.int32), in_id, in_mask, init_encode])\n",
        "\n",
        "        return encoded\n",
        "\n",
        "    def encode_loop(self, i, in_id, in_mask, init_encode):\n",
        "        B, S, E = init_encode.shape\n",
        "        cur_in_id = tf.gather(in_id, i, axis=1)\n",
        "        cur_in_mask = tf.gather(in_mask, i, axis=1)\n",
        "        last_hidden_states = self.transformer((cur_in_id, cur_in_mask))[0]\n",
        "        if self.sent_embed_method == 'cls':\n",
        "          cur_output = tf.slice(last_hidden_states, [0, 0, 0], [B, 1, E], name='sent_embeddings')\n",
        "          cur_output = tf.squeeze(cur_output, 1)\n",
        "        elif self.sent_embed_method == 'average':\n",
        "          hidden_states_masked = last_hidden_states * \\\n",
        "              tf.cast(cur_in_mask, tf.float32)[:, :, tf.newaxis]\n",
        "          cur_output = tf.reduce_sum(hidden_states_masked, axis=1) \\\n",
        "              / (tf.reduce_sum(tf.cast(cur_in_mask, dtype=tf.float32), axis=1)[:, tf.newaxis] + tf.constant(1e-8))\n",
        "        else:\n",
        "          raise(\"sentence embedding method must be in ['cls', 'average']\")\n",
        "        init_encode = self.inplace_update_i(init_encode, cur_output, i)\n",
        "        return i + 1, in_id, in_mask, init_encode\n",
        "\n",
        "    def loop_cond(self, i, in_id, in_mask, init_encode):\n",
        "        return i < in_id.shape[1]\n",
        "    \n",
        "    def inplace_update_i(self, tensor_BxSxE, updates_B, i):\n",
        "        \"\"\"Inplace update a tensor. B: batch_size, S: num_sentences, E:embedding_dim.\"\"\"\n",
        "        batch_size = tensor_BxSxE.shape[0]\n",
        "        indices_Bx2 = tf.stack([\n",
        "            tf.range(batch_size, dtype=tf.int64),\n",
        "            tf.fill([batch_size], tf.cast(i, tf.int64))\n",
        "        ], axis=-1)\n",
        "        return tf.tensor_scatter_nd_update(tensor_BxSxE, indices_Bx2, updates_B)"
      ],
      "execution_count": 15,
      "outputs": []
    },
    {
      "cell_type": "code",
      "metadata": {
        "id": "0NFwqJGH3aNY",
        "colab_type": "code",
        "colab": {}
      },
      "source": [
        "class ScaledDotProductAttentionLayer():\n",
        "    def calculate_output_weights(self, q, k, v, mask):\n",
        "        qk = tf.matmul(q, k, transpose_b=True)\n",
        "        dk = tf.cast(tf.shape(k)[-1], tf.float32)\n",
        "        scaled_attention_logits = qk / tf.math.sqrt(dk)\n",
        "\n",
        "        if mask is not None:\n",
        "            scaled_attention_logits += (mask * -1e9)  \n",
        "\n",
        "        weights = tf.nn.softmax(scaled_attention_logits, axis=-1)\n",
        "        output = tf.matmul(weights, v)\n",
        "\n",
        "        return output, weights"
      ],
      "execution_count": 16,
      "outputs": []
    },
    {
      "cell_type": "code",
      "metadata": {
        "id": "9mgsUVrB1i74",
        "colab_type": "code",
        "colab": {}
      },
      "source": [
        "class MultiHeadAttentionLayer(tf.keras.layers.Layer):\n",
        "    def __init__(self, num_neurons, num_heads):\n",
        "        super(MultiHeadAttentionLayer, self).__init__()\n",
        "        \n",
        "        self.num_heads = num_heads\n",
        "        self.num_neurons = num_neurons\n",
        "        self.depth = num_neurons // self.num_heads\n",
        "        self.attention_layer = ScaledDotProductAttentionLayer()\n",
        "        \n",
        "        self.q_layer = Dense(num_neurons)\n",
        "        self.k_layer = Dense(num_neurons)\n",
        "        self.v_layer = Dense(num_neurons)\n",
        "\n",
        "        self.linear_layer = Dense(num_neurons)\n",
        "\n",
        "    def split(self, x, batch_size):\n",
        "        x = tf.reshape(x, (batch_size, -1, self.num_heads, self.depth))\n",
        "        return tf.transpose(x, perm=[0, 2, 1, 3])\n",
        "\n",
        "    def call(self, v, k, q, mask):\n",
        "        batch_size = tf.shape(q)[0]\n",
        "\n",
        "        # Run through linear layers\n",
        "        q = self.q_layer(q)\n",
        "        k = self.k_layer(k)\n",
        "        v = self.v_layer(v)\n",
        "\n",
        "        # Split the heads\n",
        "        q = self.split(q, batch_size)\n",
        "        k = self.split(k, batch_size)\n",
        "        v = self.split(v, batch_size)\n",
        "\n",
        "        # Run through attention\n",
        "        attention_output, weights = self.attention_layer.calculate_output_weights(q, k, v, mask)\n",
        "        \n",
        "        # Prepare for the rest of processing\n",
        "        output = tf.transpose(attention_output, perm=[0, 2, 1, 3])\n",
        "        concat_attention = tf.reshape(output, (batch_size, -1, self.num_neurons))\n",
        "        \n",
        "        # Run through final linear layer\n",
        "        output = self.linear_layer(concat_attention)\n",
        "\n",
        "        return output, weights"
      ],
      "execution_count": 17,
      "outputs": []
    },
    {
      "cell_type": "code",
      "metadata": {
        "id": "7T-HZyYmeA5E",
        "colab_type": "code",
        "colab": {}
      },
      "source": [
        "BATCH_SIZE = 8\n",
        "\n",
        "def extractive_hibert_model(sent_max_input_length, doc_max_input_length, \n",
        "                            train_layers, ff_dim, ff_dropout, optimizer, \n",
        "                            sent_encode_method='average', k=20):\n",
        "    \"\"\"\n",
        "    Implementation of NER model\n",
        "    \n",
        "    variables:\n",
        "        max_input_length: number of tokens (max_length + 1)\n",
        "        train_layers: number of layers to be retrained\n",
        "        optimizer: optimizer to be used\n",
        "    \n",
        "    returns: model\n",
        "    \"\"\"\n",
        "    \n",
        "    in_id = tf.keras.layers.Input(shape=(doc_max_input_length, sent_max_input_length,), dtype='int32', name=\"input_ids\")\n",
        "    in_word_mask = tf.keras.layers.Input(shape=(doc_max_input_length, sent_max_input_length,), dtype='int32', name=\"input_word_masks\")\n",
        "    in_sent_mask = tf.keras.layers.Input(shape=(doc_max_input_length,), dtype='int32', name=\"input_sentence_masks\")\n",
        "    \n",
        "    sent_bert_layer = TFDistilBertModel.from_pretrained('distilbert-base-cased').distilbert\n",
        "    doc_bert_layer = TFDistilBertModel.from_pretrained('distilbert-base-cased').distilbert\n",
        "    doc_position_embeddings = doc_bert_layer.embeddings.position_embeddings\n",
        "    \n",
        "    sent_bert = SentenceBertLayer(sent_bert_layer, sent_encode_method)\n",
        "    sent_bert_sequence = sent_bert((in_id, in_word_mask))\n",
        "\n",
        "    # stop gradients from flowing through distilbert for sentence representation\n",
        "    sent_bert_sequence = tf.stop_gradient(sent_bert_sequence)\n",
        "\n",
        "    # use position embeddings for the sentences\n",
        "    position_ids = tf.range(doc_max_input_length, dtype=tf.int32)[tf.newaxis, :]\n",
        "    doc_bert_position_embeddings = doc_position_embeddings(position_ids)\n",
        "\n",
        "    dense = sent_bert_sequence + doc_bert_position_embeddings\n",
        "\n",
        "    invert_mask = tf.cast(tf.logical_not(tf.cast(in_sent_mask, tf.bool)), tf.float32)\n",
        "    invert_mask_broadcast = invert_mask[:, tf.newaxis, tf.newaxis, :] \n",
        "    dense = MultiHeadAttentionLayer(256, 4)(dense, dense, dense, mask=invert_mask_broadcast)[0]\n",
        "    \n",
        "    # feed sentence representations through dense layers\n",
        "    for i, d in enumerate(ff_dim):\n",
        "      dense = tf.keras.layers.Dense(d, activation=tf.nn.leaky_relu, name='dense_{}'.format(i))(dense)\n",
        "      dense = tf.keras.layers.Dropout(rate=ff_dropout)(dense)\n",
        "\n",
        "    pred = tf.keras.layers.Dense(3, activation='softmax', name='is_summary')(dense)\n",
        "     \n",
        "    print('pred: ', pred)\n",
        "\n",
        "    losses = {\"is_summary\": custom_crossentropy_loss,}\n",
        "    lossWeights = {\"is_summary\": 1.0}\n",
        "\n",
        "    model = tf.keras.models.Model(inputs=[in_id, in_word_mask, in_sent_mask], outputs=pred)\n",
        "    model.compile(loss=losses, optimizer=optimizer, metrics=[custom_crossentropy_loss, custom_recall_top_5, custom_recall_top_10, custom_recall_top_20])\n",
        "\n",
        "    return model"
      ],
      "execution_count": 18,
      "outputs": []
    },
    {
      "cell_type": "markdown",
      "metadata": {
        "id": "67VAdp8nBqR5",
        "colab_type": "text"
      },
      "source": [
        "## Build and compare hyperparams"
      ]
    },
    {
      "cell_type": "code",
      "metadata": {
        "scrolled": false,
        "id": "BExUvKR0eA5b",
        "colab_type": "code",
        "colab": {
          "base_uri": "https://localhost:8080/",
          "height": 356,
          "referenced_widgets": [
            "dacac867f68b46c58d74f9ddfe6434ef",
            "384cc96f7bc1475c83de47e3f2ef576e",
            "69f9ba68076b46cc9b5ad699d8b4bc37",
            "f8f0121da38346878b76f52e24b4a4a2",
            "ec650270df7a42ee844d096f3bd41334",
            "34f635eac03b4ecf963b917194fcc7c1",
            "74d86b3bb068465590035c7f46002f8e",
            "8aa56c623cb34517b32af4760216e06a",
            "5e08261e9ac94650b7dfb4fe29952ce8",
            "b5d56bb3853f421487f475ef1e73d32a",
            "bfe9c818cdcd4bd398b52c50f8ca5fb6",
            "d8dcabe357924187a67c1077ec9e26a2",
            "12543bb696c842869690ae8e302542ae",
            "fd43084ce3164ba59c16900db8a832cc",
            "7f090a34021448c4a5be076dcc26c3af",
            "99545ed9212c4bc092480fa68eb7b8a4"
          ]
        },
        "outputId": "940ab82e-3380-4770-d33e-a754d1f231c2"
      },
      "source": [
        "tf.compat.v1.logging.set_verbosity(tf.compat.v1.logging.ERROR)\n",
        "\n",
        "histories = []\n",
        "for l in [0.0005]:\n",
        "    for d in [[128]]: # [[128]*5]:\n",
        "        for o in [0.1]:\n",
        "            print(\"learning_rate: {}, hidden_dim: {}, dropout: {}\".format(l, d, o))\n",
        "\n",
        "            # lr = create_lr_schedule(init_lr=l, num_train_steps=10187*4, num_warmup_steps=10187)\n",
        "            # optimizer = tf.keras.optimizers.Adam(lr=l, beta_1=0.9, beta_2=0.999, decay=0.1, amsgrad=False)\n",
        "\n",
        "            optimizer = nlp.optimization.create_optimizer(l, num_train_steps=10187*4, num_warmup_steps=10187)\n",
        "            \n",
        "\n",
        "            model = extractive_hibert_model(MAX_SENT_LENGTH, MAX_DOC_LENGTH, train_layers=0, ff_dim=d, ff_dropout=o, optimizer=optimizer, sent_encode_method='average')\n",
        "            break\n",
        "            history = model.fit(\n",
        "                get_data(data, 'train', BATCH_SIZE), \n",
        "                {\"is_summary\": get_labels(data, 'train', BATCH_SIZE)},\n",
        "                validation_data=(get_data(data, 'eval', BATCH_SIZE), {\"is_summary\":get_labels(data, 'eval', BATCH_SIZE)}),\n",
        "                epochs=6,\n",
        "                batch_size=BATCH_SIZE\n",
        "            )\n",
        "            print(\"training done, saving model\")\n",
        "            model_save_name = \"attention_model\" #f'l-{l}_hd-{str(d)}_o-{o}.model' \n",
        "            path = f\"/content/gdrive/My Drive/{model_save_name}\" \n",
        "            model.save(path)\n",
        "            model.save_weights(path+\".h5\")\n",
        "            # Get the dictionary containing each metric and the loss for each epoch\n",
        "            history_dict = history.history\n",
        "            # Save it under the form of a json file\n",
        "            json.dump(history_dict, open(f\"{path}.json\", 'w')) #f\"/content/gdrive/My Drive/history-l-{l}_hd-{str(d)}_o-{o}.json\"\n",
        "            histories.append({'learning_rate': l, 'hidden_dim': d, 'dropout':o, 'history': history})\n",
        "            pred = model(get_data(data, 'eval', BATCH_SIZE, 8))[0]\n",
        "            print(pred[:10])\n"
      ],
      "execution_count": 19,
      "outputs": [
        {
          "output_type": "stream",
          "text": [
            "INFO:absl:using Adamw optimizer\n"
          ],
          "name": "stderr"
        },
        {
          "output_type": "stream",
          "text": [
            "learning_rate: 0.0005, hidden_dim: [128], dropout: 0.1\n"
          ],
          "name": "stdout"
        },
        {
          "output_type": "display_data",
          "data": {
            "application/vnd.jupyter.widget-view+json": {
              "model_id": "dacac867f68b46c58d74f9ddfe6434ef",
              "version_minor": 0,
              "version_major": 2
            },
            "text/plain": [
              "HBox(children=(FloatProgress(value=0.0, description='Downloading', max=411.0, style=ProgressStyle(description_…"
            ]
          },
          "metadata": {
            "tags": []
          }
        },
        {
          "output_type": "stream",
          "text": [
            "\n"
          ],
          "name": "stdout"
        },
        {
          "output_type": "display_data",
          "data": {
            "application/vnd.jupyter.widget-view+json": {
              "model_id": "5e08261e9ac94650b7dfb4fe29952ce8",
              "version_minor": 0,
              "version_major": 2
            },
            "text/plain": [
              "HBox(children=(FloatProgress(value=0.0, description='Downloading', max=354041576.0, style=ProgressStyle(descri…"
            ]
          },
          "metadata": {
            "tags": []
          }
        },
        {
          "output_type": "stream",
          "text": [
            "\n"
          ],
          "name": "stdout"
        },
        {
          "output_type": "stream",
          "text": [
            "WARNING:transformers.modeling_tf_utils:Some weights of the model checkpoint at distilbert-base-cased were not used when initializing TFDistilBertModel: ['vocab_layer_norm', 'activation_13', 'vocab_transform', 'vocab_projector']\n",
            "- This IS expected if you are initializing TFDistilBertModel from the checkpoint of a model trained on another task or with another architecture (e.g. initializing a BertForSequenceClassification model from a BertForPretraining model).\n",
            "- This IS NOT expected if you are initializing TFDistilBertModel from the checkpoint of a model that you expect to be exactly identical (initializing a BertForSequenceClassification model from a BertForSequenceClassification model).\n",
            "WARNING:transformers.modeling_tf_utils:All the weights of TFDistilBertModel were initialized from the model checkpoint at distilbert-base-cased.\n",
            "If your task is similar to the task the model of the ckeckpoint was trained on, you can already use TFDistilBertModel for predictions without further training.\n",
            "WARNING:transformers.modeling_tf_utils:Some weights of the model checkpoint at distilbert-base-cased were not used when initializing TFDistilBertModel: ['vocab_layer_norm', 'activation_13', 'vocab_transform', 'vocab_projector']\n",
            "- This IS expected if you are initializing TFDistilBertModel from the checkpoint of a model trained on another task or with another architecture (e.g. initializing a BertForSequenceClassification model from a BertForPretraining model).\n",
            "- This IS NOT expected if you are initializing TFDistilBertModel from the checkpoint of a model that you expect to be exactly identical (initializing a BertForSequenceClassification model from a BertForSequenceClassification model).\n",
            "WARNING:transformers.modeling_tf_utils:All the weights of TFDistilBertModel were initialized from the model checkpoint at distilbert-base-cased.\n",
            "If your task is similar to the task the model of the ckeckpoint was trained on, you can already use TFDistilBertModel for predictions without further training.\n"
          ],
          "name": "stderr"
        },
        {
          "output_type": "stream",
          "text": [
            "pred:  Tensor(\"is_summary/truediv:0\", shape=(8, 40, 3), dtype=float32)\n"
          ],
          "name": "stdout"
        }
      ]
    },
    {
      "cell_type": "code",
      "metadata": {
        "id": "xgKQThehe0LO",
        "colab_type": "code",
        "colab": {}
      },
      "source": [
        "## reload recently train weights in case of kernel restart\n",
        "# model.load_weights(\"/content/gdrive/My Drive/attention_model.h5\")"
      ],
      "execution_count": 20,
      "outputs": []
    },
    {
      "cell_type": "code",
      "metadata": {
        "id": "9yHLuT_AfHDY",
        "colab_type": "code",
        "colab": {
          "base_uri": "https://localhost:8080/",
          "height": 139
        },
        "outputId": "2144be84-0de8-4b30-af81-7ed85aaecfda"
      },
      "source": [
        "## check that evaluation metrics are the same after loading weights\n",
        "# model.evaluate(get_data(data, 'eval', BATCH_SIZE), get_labels(data, 'eval', BATCH_SIZE), batch_size=8)"
      ],
      "execution_count": 24,
      "outputs": [
        {
          "output_type": "stream",
          "text": [
            "545/545 [==============================] - 160s 293ms/step - loss: 0.4541 - custom_crossentropy_loss: 0.4541 - custom_recall_top_5: 0.5951 - custom_recall_top_10: 0.8164 - custom_recall_top_20: 0.9390\n"
          ],
          "name": "stdout"
        },
        {
          "output_type": "execute_result",
          "data": {
            "text/plain": [
              "[0.4541380703449249,\n",
              " 0.4541380703449249,\n",
              " 0.5951111912727356,\n",
              " 0.8163729906082153,\n",
              " 0.9389616847038269]"
            ]
          },
          "metadata": {
            "tags": []
          },
          "execution_count": 24
        }
      ]
    },
    {
      "cell_type": "code",
      "metadata": {
        "id": "Bh9JSJeceA5k",
        "colab_type": "code",
        "colab": {}
      },
      "source": [
        "for i in histories:\n",
        "  for k in ('learning_rate', 'hidden_dim', 'dropout'):\n",
        "    print(k, ':', i[k])\n",
        "  history = i['history']\n",
        "  for m in ['custom_crossentropy_loss', 'custom_recall_top_5', 'custom_recall_top_10', 'custom_recall_top_20']:\n",
        "    plt.plot(history.history[m])\n",
        "    plt.plot(history.history['val_' + m], style=':')\n",
        "    plt.title(m.replace('custom_', ''))\n",
        "    plt.ylabel(m.replace('custom_', ''))\n",
        "    plt.xlabel('epoch')\n",
        "    plt.legend(['train', 'test'])\n",
        "    plt.show()"
      ],
      "execution_count": 28,
      "outputs": []
    },
    {
      "cell_type": "markdown",
      "metadata": {
        "id": "9R79m2-3BfIX",
        "colab_type": "text"
      },
      "source": [
        "### Compare Downstream FFN only to MHA + FFN"
      ]
    },
    {
      "cell_type": "code",
      "metadata": {
        "id": "En7jnOdTeA6O",
        "colab_type": "code",
        "colab": {}
      },
      "source": [
        "attention_history = json.load(open(\"/content/gdrive/My Drive/attention_model.json\", 'r'))\n",
        "ff_history = json.load(open(\"/content/gdrive/My Drive/history-l-0.0005_hd-[128, 128, 128, 128, 128]_o-0.1_e6.json\", 'r'))"
      ],
      "execution_count": 56,
      "outputs": []
    },
    {
      "cell_type": "code",
      "metadata": {
        "id": "tJ-v3_5R7oSf",
        "colab_type": "code",
        "colab": {
          "base_uri": "https://localhost:8080/",
          "height": 1000
        },
        "outputId": "bb3bf98d-8e03-4b46-dd83-1d277e1b52af"
      },
      "source": [
        "for m in ['custom_crossentropy_loss', 'custom_recall_top_5', 'custom_recall_top_10', 'custom_recall_top_20']:\n",
        "    for i, (name, history) in enumerate((('multihead_attention', attention_history), \n",
        "                                         ('feed_forward_nn', ff_history))):\n",
        "        color = ['blue', 'orange'][i]\n",
        "        plt.plot(history[m], color=color, label=f\"distilbert_sentence_encoding + {name} - train\")\n",
        "        plt.plot(history['val_' + m], linestyle=':', color=color, label=f\"distilbert_sentence_encoding + {name} - eval\")\n",
        "        plt.title(m.replace('custom_', ''))\n",
        "        plt.ylabel(m.replace('custom_', ''))\n",
        "        plt.xlabel('epoch')\n",
        "    plt.legend()\n",
        "    plt.show()"
      ],
      "execution_count": 63,
      "outputs": [
        {
          "output_type": "display_data",
          "data": {
            "image/png": "[encoded data removed]",
            "text/plain": [
              "<Figure size 432x288 with 1 Axes>"
            ]
          },
          "metadata": {
            "tags": [],
            "needs_background": "light"
          }
        },
        {
          "output_type": "display_data",
          "data": {
            "image/png": "[encoded data removed]",
            "text/plain": [
              "<Figure size 432x288 with 1 Axes>"
            ]
          },
          "metadata": {
            "tags": [],
            "needs_background": "light"
          }
        },
        {
          "output_type": "display_data",
          "data": {
            "image/png": "[encoded data removed]",
            "text/plain": [
              "<Figure size 432x288 with 1 Axes>"
            ]
          },
          "metadata": {
            "tags": [],
            "needs_background": "light"
          }
        },
        {
          "output_type": "display_data",
          "data": {
            "image/png": "[encoded data removed]",
            "text/plain": [
              "<Figure size 432x288 with 1 Axes>"
            ]
          },
          "metadata": {
            "tags": [],
            "needs_background": "light"
          }
        }
      ]
    },
    {
      "cell_type": "markdown",
      "metadata": {
        "id": "_0x3boSKgRQ5",
        "colab_type": "text"
      },
      "source": [
        "## Write extractive text to new TFRecords\n",
        "### Methods\n",
        "*   parse batches of the original TFRecords\n",
        "*   run predictions\n",
        "*   get top k sentences to write as new inputs for PEGASUS\n"
      ]
    },
    {
      "cell_type": "code",
      "metadata": {
        "id": "mXO6EMA7KmBi",
        "colab_type": "code",
        "colab": {}
      },
      "source": [
        "def construct_extractive_summary(pred, k, in_id, in_word_mask, in_sent_mask):\n",
        "    y_pred_1s = tf.squeeze(tf.slice(pred, [0, 1], [len(in_id), 1]), axis=1)\n",
        "    y_pred_pad_neg = set_pad_value(in_sent_mask==1, y_pred_1s, -float('Inf'), tf.float32)\n",
        "    top_values, top_indices = tf.nn.top_k(y_pred_pad_neg, k=k)\n",
        "    top_k_minus_pad_mask = tf.slice(in_sent_mask, [0], [k])\n",
        "    top_k_non_pad = tf.sort(tf.ragged.boolean_mask(top_indices, top_k_minus_pad_mask==1)).numpy()\n",
        "    # print(top_k_non_pad)\n",
        "    # num_tokens = sum([sum(m) - 1 for m in in_word_mask[top_k_non_pad]])\n",
        "    return in_id[top_k_non_pad]\n",
        "\n",
        "def ids_to_example_text(sentences):\n",
        "    final_sent = []\n",
        "    for sent in sentences:\n",
        "        final_sent.append(tokenizer.decode(sent, skip_special_tokens=True))\n",
        "    return ' '.join(final_sent)\n",
        "\n",
        "def get_inputs_from_batch(examples):\n",
        "    word_token_ids_list = []\n",
        "    word_lvl_masks_list = []\n",
        "    sent_lvl_masks_list = []\n",
        "    for example in examples:\n",
        "        doc_sent_list, extractive_sentence_ids, locations = TFExampleToSentences(example)\n",
        "\n",
        "        _, word_token_ids, word_mask, sent_mask, _ = sentencesToHiBert(doc_sent_list, \n",
        "                                                                                      extractive_sentence_ids, \n",
        "                                                                                      max_sent_length=MAX_SENT_LENGTH, \n",
        "                                                                                      max_num_sentences=MAX_DOC_LENGTH,\n",
        "                                                                                      min_sent_length=4)\n",
        "        word_token_ids_list.append(word_token_ids)\n",
        "        word_lvl_masks_list.append(word_mask)\n",
        "        sent_lvl_masks_list.append(sent_mask)\n",
        "    inputs = (np.array(word_token_ids_list), np.array(word_lvl_masks_list), np.array(sent_lvl_masks_list))\n",
        "    return inputs\n",
        "\n",
        "def get_extracted_text_from_preds(preds, inputs, k):\n",
        "    new_text = []\n",
        "    new_num_tokens = []\n",
        "    for i, pred in enumerate(preds):\n",
        "        in_id = inputs[0][i]\n",
        "        in_word_mask = inputs[1][i]\n",
        "        in_sent_mask = inputs[2][i]\n",
        "\n",
        "        id_sentences = construct_extractive_summary(pred, k, in_id, in_word_mask, in_sent_mask)\n",
        "        txt = ids_to_example_text(id_sentences)\n",
        "        new_text.append(txt)\n",
        "        new_num_tokens.append(len(tokenizer.tokenize(txt)))\n",
        "    return new_text, new_num_tokens\n"
      ],
      "execution_count": 25,
      "outputs": []
    },
    {
      "cell_type": "markdown",
      "metadata": {
        "id": "kVrJqvftjqzk",
        "colab_type": "text"
      },
      "source": [
        "### Writer and visualize\n",
        "\n",
        "\n",
        "*   iterate through batches of 1000 examples\n",
        "*   visualize distribution of original token lengths to new extracted text based on top k sentences\n",
        "\n"
      ]
    },
    {
      "cell_type": "code",
      "metadata": {
        "id": "y0MHtsyNftDY",
        "colab_type": "code",
        "colab": {
          "base_uri": "https://localhost:8080/",
          "height": 1000
        },
        "outputId": "17c86b97-12e2-48d9-809f-8dd90335690b"
      },
      "source": [
        "k = 20 # get up to top k sentences\n",
        "\n",
        "for key, f in [('eval', 'eval_top50_5k.tfrecord'), ('train', 'train_top50_100k.tfrecord')]: \n",
        "    print(f\"{key} data\")\n",
        "    filename = f'/content/gdrive/My Drive/{f}_extracted_transformer_top{k}.tfrecord'\n",
        "\n",
        "    dataset = utils.build(f, False)\n",
        "    batched = dataset.batch(1000)\n",
        "\n",
        "    original_text_lengths = []\n",
        "    new_text_lengths10 = []\n",
        "    new_text_lengths20 = [] \n",
        "    with tf.io.TFRecordWriter(filename) as writer:\n",
        "\n",
        "        for i, batch in enumerate(batched.as_numpy_iterator()):\n",
        "            word_token_ids_list = []\n",
        "            word_lvl_masks_list = []\n",
        "            sent_lvl_masks_list = []\n",
        "            labels_list = []\n",
        "            print(i*1000)\n",
        "            \n",
        "            del batch['supervised']\n",
        "            cur_batch_size = len(batch['inputs'])\n",
        "            examples = [{k: tf.constant(v[i]) for k, v in batch.items()} for i in range(cur_batch_size)]\n",
        "\n",
        "            if cur_batch_size % BATCH_SIZE != 0:\n",
        "                examples.extend([{'inputs': tf.constant(\"[PAD]\"), \"targets\": tf.constant(\"[PAD]\")} for i in range(BATCH_SIZE-(cur_batch_size % BATCH_SIZE))])\n",
        "\n",
        "            inputs = get_inputs_from_batch(examples)\n",
        "            preds = model.predict(inputs, batch_size=BATCH_SIZE)\n",
        "            \n",
        "            new_text10, new_num_tokens10 = get_extracted_text_from_preds(preds, inputs, 10)\n",
        "            new_text20, new_num_tokens20 = get_extracted_text_from_preds(preds, inputs, 20)\n",
        "            original_num_tokens = [len(tokenizer.tokenize(e['inputs'].numpy().decode('utf-8'))) for e in examples]\n",
        "            original_text_lengths.extend(original_num_tokens[:cur_batch_size])\n",
        "            new_text_lengths10.extend(new_num_tokens10[:cur_batch_size])\n",
        "            new_text_lengths20.extend(new_num_tokens20[:cur_batch_size])\n",
        "            for n, example in enumerate(examples[:cur_batch_size]):\n",
        "                example[\"inputs\"] = tf.constant(new_text[n])\n",
        "                record_bytes = utils.serialize_example(**example)\n",
        "                writer.write(record_bytes)\n",
        "\n",
        "        # show stats of new records\n",
        "        print(f\"wrote {i*1000+cur_batch_size} new tf records to {filename}\")\n",
        "        print(f\"previous average number of input tokens {sum([t / len(original_text_lengths) for t in original_text_lengths])}\")\n",
        "        print(f\"new average number of input tokens, k=10, {sum([t / len(new_text_lengths10) for t in new_text_lengths10])}\")\n",
        "        print(f\"new average number of input tokens, k=20, {sum([t / len(new_text_lengths20) for t in new_text_lengths20])}\")\n",
        "        \n",
        "        print(f\"sd length, original, {np.std(np.array(original_text_lengths))}\")\n",
        "        print(f\"sd length, k=10, {np.std(np.array(new_text_lengths10))}\")\n",
        "        print(f\"sd length, k=20, {np.std(np.array(new_text_lengths20))}\")\n",
        "        \n",
        "        print(f\"max length, original, {max(original_text_lengths)}\")\n",
        "        print(f\"max length, k=10, {max(new_text_lengths10)}\")\n",
        "        print(f\"max length, k=20, {max(new_text_lengths20)}\")\n",
        "        sns.kdeplot(original_text_lengths, label=\"original_text_lengths (tokens)\")\n",
        "        sns.kdeplot(new_text_lengths10, label=\"extracted_text_lengths (tokens), k=10\")\n",
        "        sns.kdeplot(new_text_lengths20, label=\"extracted_text_lengths (tokens), k=20\")\n",
        "        plt.xlim(0, 1000)\n",
        "        plt.title(\"Distribution of text lengths\")\n",
        "        plt.xlabel(\"number of wordpiece tokens\")\n",
        "        plt.legend()\n",
        "        plt.show()\n",
        "\n",
        "        # g = sns.jointplot(x=original_text_lengths, y=new_text_lengths, \n",
        "        #               xlim=(0, 1000), ylim=(0,1000), kind=\"kde\")\n",
        "        # g.fig.suptitle(\"Joint Distribution of Original and Extracted Lengths (k=10)\")\n",
        "        # g.set_axis_labels(\"original_text_lengths\", \"extracted_text_lengths\")\n",
        "        # plt.show()"
      ],
      "execution_count": null,
      "outputs": [
        {
          "output_type": "stream",
          "text": [
            "eval data\n",
            "0\n",
            "1000\n",
            "2000\n",
            "3000\n",
            "4000\n",
            "wrote 4362 new tf records to /content/gdrive/My Drive/eval_top50_5k.tfrecord_extracted_transformer_top20.tfrecord\n",
            "previous average number of input tokens 438.8745988078868\n",
            "new average number of input tokens, k=10, 231.56166895919395\n",
            "new average number of input tokens, k=20, 315.818890417241\n",
            "sd length, original, 386.92692383004606\n",
            "sd length, k=10, 81.66815339538365\n",
            "sd length, k=20, 165.60042403614585\n",
            "max length, original, 4487\n",
            "max length, k=10, 390\n",
            "max length, k=20, 767\n"
          ],
          "name": "stdout"
        },
        {
          "output_type": "display_data",
          "data": {
            "image/png": "[encoded data removed]",
            "text/plain": [
              "<Figure size 432x288 with 1 Axes>"
            ]
          },
          "metadata": {
            "tags": [],
            "needs_background": "light"
          }
        },
        {
          "output_type": "stream",
          "text": [
            "train data\n",
            "0\n",
            "1000\n",
            "2000\n",
            "3000\n",
            "4000\n",
            "5000\n",
            "6000\n",
            "7000\n",
            "8000\n",
            "9000\n",
            "10000\n",
            "11000\n",
            "12000\n",
            "13000\n",
            "14000\n",
            "15000\n",
            "16000\n",
            "17000\n",
            "18000\n",
            "19000\n",
            "20000\n",
            "21000\n",
            "22000\n",
            "23000\n",
            "24000\n",
            "25000\n",
            "26000\n",
            "27000\n",
            "28000\n",
            "29000\n",
            "30000\n",
            "31000\n",
            "32000\n",
            "33000\n",
            "34000\n",
            "35000\n",
            "36000\n",
            "37000\n",
            "38000\n",
            "39000\n",
            "40000\n",
            "41000\n",
            "42000\n",
            "43000\n",
            "44000\n",
            "45000\n",
            "46000\n",
            "47000\n",
            "48000\n",
            "49000\n",
            "50000\n"
          ],
          "name": "stdout"
        }
      ]
    },
    {
      "cell_type": "markdown",
      "metadata": {
        "id": "FqxhWyfHO_fm",
        "colab_type": "text"
      },
      "source": [
        ""
      ]
    },
    {
      "cell_type": "code",
      "metadata": {
        "id": "0CjdiK6M8MnE",
        "colab_type": "code",
        "colab": {}
      },
      "source": [
        ""
      ],
      "execution_count": null,
      "outputs": []
    }
  ]
}