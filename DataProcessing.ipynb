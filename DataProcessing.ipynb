{
 "cells": [
  {
   "cell_type": "code",
   "execution_count": 14,
   "metadata": {},
   "outputs": [],
   "source": [
    "import json\n",
    "import pandas as pd\n",
    "import numpy as np\n",
    "import matplotlib.pyplot as plt\n",
    "import seaborn as sns\n",
    "import tensorflow as tf\n",
    "\n",
    "from collections import Counter\n",
    "from tensorflow.keras import layers\n",
    "from tensorflow.keras.backend import sparse_categorical_crossentropy\n",
    "from tensorflow.keras.layers import Dense, Flatten\n",
    "from transformers import BertTokenizer, TFBertModel"
   ]
  },
  {
   "cell_type": "code",
   "execution_count": 2,
   "metadata": {},
   "outputs": [
    {
     "name": "stdout",
     "output_type": "stream",
     "text": [
      "corpus-webis-tldr-17.json  DataProcessing.ipynb\n",
      "corpus-webis-tldr-17.zip   README.md\n"
     ]
    }
   ],
   "source": [
    "!ls"
   ]
  },
  {
   "cell_type": "code",
   "execution_count": 3,
   "metadata": {},
   "outputs": [
    {
     "name": "stdout",
     "output_type": "stream",
     "text": [
      "\u001b[1;39m[\n",
      "  \u001b[0;32m\"author\"\u001b[0m\u001b[1;39m,\n",
      "  \u001b[0;32m\"body\"\u001b[0m\u001b[1;39m,\n",
      "  \u001b[0;32m\"content\"\u001b[0m\u001b[1;39m,\n",
      "  \u001b[0;32m\"content_len\"\u001b[0m\u001b[1;39m,\n",
      "  \u001b[0;32m\"id\"\u001b[0m\u001b[1;39m,\n",
      "  \u001b[0;32m\"normalizedBody\"\u001b[0m\u001b[1;39m,\n",
      "  \u001b[0;32m\"subreddit\"\u001b[0m\u001b[1;39m,\n",
      "  \u001b[0;32m\"subreddit_id\"\u001b[0m\u001b[1;39m,\n",
      "  \u001b[0;32m\"summary\"\u001b[0m\u001b[1;39m,\n",
      "  \u001b[0;32m\"summary_len\"\u001b[0m\u001b[1;39m\n",
      "\u001b[1;39m]\u001b[0m\n"
     ]
    }
   ],
   "source": [
    "!head -1 corpus-webis-tldr-17.json | jq 'keys'"
   ]
  },
  {
   "cell_type": "code",
   "execution_count": 4,
   "metadata": {},
   "outputs": [
    {
     "name": "stdout",
     "output_type": "stream",
     "text": [
      "{\"author\":\"raysofdarkmatter\",\"body\":\"I think it should be fixed on either UTC standard or UTC+1 year around, with the current zone offsets.\\n\\nMoving timescales add a lot of complexity to the implementation of timekeeping systems and have [dubious value]( \\n\\nI think seasonal shifting time made sense in the pre-electric past, when timekeeping was more flexible and artificial light was inefficient and often dangerous. \\n\\nNow we have machines that work easily with simple timekeeping rules, and it's more beneficial to spend a small amount on energy for lighting, and save the larger cost of engineering things to work with the complex timekeeping rules, as well as saving the irritation to humans.\\n\\nLighting has gotten much more efficient over time; we can squeeze out a lot more photons per unit of energy from a 2012 CFL or LED than a candle could in 1780, or a lightbulb could in 1950. \\n\\nThere's a lot of room for improvement in how we use lights as well; as lighting control gets more intelligent, there will be a lot of savings from not illuminating inactive spaces constantly.\\n\\ntl;dr: Shifting seasonal time is no longer worth it.\",\"normalizedBody\":\"I think it should be fixed on either UTC standard or UTC+1 year around, with the current zone offsets. \\n Moving timescales add a lot of complexity to the implementation of timekeeping systems and have [dubious value]( \\n I think seasonal shifting time made sense in the pre-electric past, when timekeeping was more flexible and artificial light was inefficient and often dangerous. \\n Now we have machines that work easily with simple timekeeping rules, and it's more beneficial to spend a small amount on energy for lighting, and save the larger cost of engineering things to work with the complex timekeeping rules, as well as saving the irritation to humans. \\n Lighting has gotten much more efficient over time; we can squeeze out a lot more photons per unit of energy from a 2012 CFL or LED than a candle could in 1780, or a lightbulb could in 1950. \\n There's a lot of room for improvement in how we use lights as well; as lighting control gets more intelligent, there will be a lot of savings from not illuminating inactive spaces constantly. \\n tl;dr: Shifting seasonal time is no longer worth it. \\n\",\"content\":\"I think it should be fixed on either UTC standard or UTC+1 year around, with the current zone offsets. \\n Moving timescales add a lot of complexity to the implementation of timekeeping systems and have [dubious value]( \\n I think seasonal shifting time made sense in the pre-electric past, when timekeeping was more flexible and artificial light was inefficient and often dangerous. \\n Now we have machines that work easily with simple timekeeping rules, and it's more beneficial to spend a small amount on energy for lighting, and save the larger cost of engineering things to work with the complex timekeeping rules, as well as saving the irritation to humans. \\n Lighting has gotten much more efficient over time; we can squeeze out a lot more photons per unit of energy from a 2012 CFL or LED than a candle could in 1780, or a lightbulb could in 1950. \\n There's a lot of room for improvement in how we use lights as well; as lighting control gets more intelligent, there will be a lot of savings from not illuminating inactive spaces constantly.\",\"content_len\":178,\"summary\":\"Shifting seasonal time is no longer worth it.\",\"summary_len\":8,\"id\":\"c69al3r\",\"subreddit\":\"math\",\"subreddit_id\":\"t5_2qh0n\"}\n"
     ]
    }
   ],
   "source": [
    "!head -1 corpus-webis-tldr-17.json"
   ]
  },
  {
   "cell_type": "code",
   "execution_count": 25,
   "metadata": {},
   "outputs": [],
   "source": [
    "reddit_posts = []\n",
    "with open('corpus-webis-tldr-17.json', 'r') as f:\n",
    "    for i, line in enumerate(f):\n",
    "        post = json.loads(line)\n",
    "        del post['body']\n",
    "        del post['normalizedBody']\n",
    "        reddit_posts.append(post)\n",
    "        if i % 100000 == 0:\n",
    "            print(i)"
   ]
  },
  {
   "cell_type": "code",
   "execution_count": 26,
   "metadata": {},
   "outputs": [
    {
     "data": {
      "text/plain": [
       "[{'author': 'NightlyReaper',\n",
       "  'content': 'In Mechwarrior Online, I have begun to use a mouse for the \"turret\" aspect of the torso twist/tilt and a Logitech G13 for other controls (  The G-13 has a little thumbstick that works well for WASD functions and has a little keyboard to cover all the other (limited) controls required for MWO.  For modern games, I guess that\\'s as close to HOTAS as they want you to get.  For a better solution, I think that with a joystick emulating mouse inputs it would be passable, but as you said:  It\\'s presently a sad day and you have to be able to edit XML files to modify joystick input triggers and it starts becoming an occupation rather than a gaming hobby.  In Mechwarrior 2, 3, & 4 I use the Steel Battalion controller and it is freaking awesome to have the three axes of torso twist, tilt, walking direction, plus a real throttle, plus real hat switches for views, plus pedals for extra speed, stopping power and jumpjet control.  Not to mention the 32 other buttons and the flip cover over the eject button.  Check this control map by Baron Von Pilsner ( and look at my original posts for links to my Fully Enclosed Mech Simulator on Mechwarrior Online\\'s forums for details.',\n",
       "  'content_len': 213,\n",
       "  'summary': 'Yes, Joysticks in modern games have apparently become passe unless you are playing a flight sim and that sucks.',\n",
       "  'summary_len': 19,\n",
       "  'id': 'c8onqew',\n",
       "  'subreddit': 'gamingpc',\n",
       "  'subreddit_id': 't5_2sq2y'},\n",
       " {'author': 'NuffZetPand0ra',\n",
       "  'content': \"You are talking about the Charsi imbue, right? Or a cube upgrade?\\nIf we are talking Charsi imbue, you can only imbue WHITE items. This includes superior, but they will not neccesarily be superior after imbuing (they get random base-modifications). Bloodfist and Gorefoot are both uniques (gold), and therefore not eligible for imbuing.\\nWhen you imbue, the item level matters (the item level is hidden). The item is the same level as the monster who dropped it. That means, that the higher level the monster who dropped it, the more stats is available on that item. It is important to note that an item doesn't neccesarily use all it's stat potential. This means that the same item dropped in a1 and a2 can has the possibility of some very different outcomes.\\nAfter the imbue, the item can be as good as if the monster itself had dropped a rare (yellow) item. Imbued weapons will always turn out as rare items.\\nTo answer your question, you should just progress like you are now, fighting the hardest monsters you can. When a potential good white item appears, try to imbue that. Class specifiq items has a better chance to give +skills to your class. Circlets has the higest bonuses regarding yellow items. And you can get an extra base stat advantage by using exceoptional (nightmare) items, which will drop in a4-5 from time to time. You can check out monster levels, and item qualities (normal, exceptional, elite) on arreat summit ofc. :) \\n EDIT (forgot infoz):\\nIn cases of imbue-eligible items with base bonuses (maces, wands, staffs and class specifique items, and any other item with +skills etc.) will loose their current bonuses due to the base item reroll. They can get extra skills from the base item AND the rarity class. Say, if you imbue a staff with +1 fireball, it will reroll that base staff. It might turn out with a staff with +1 icebolt and +1 warmth, and then you add the bonuses the rarity would give you, lets say +1 icebolt and +1 fireball. Then your +1 fireball staff will have turned into a +2 icebolt +1 fireball staff. It might as well turn into any other staff allowed by it's item lvl though. \\n As far as I recall, weapon damage and defense values are not rerolled. I am not 100% positive on this though. Haven't played d2 for a looong time :P\",\n",
       "  'content_len': 404,\n",
       "  'summary': 'Class only items dropped from high-lvl monsters.',\n",
       "  'summary_len': 7,\n",
       "  'id': 'c6acxvc',\n",
       "  'subreddit': 'Diablo',\n",
       "  'subreddit_id': 't5_2qore',\n",
       "  'title': 'D2 help?'},\n",
       " {'author': 'beatlecreedcabaret',\n",
       "  'content': 'All but one of my nails were in the ballpark of 1 1/8\" - 1 1/2\" long when my ring finger nail broke to the quick on Monday! It was the second break on the same hand in about a month, so I finally had to get compulsive and make all the nails the same length! I probably cut off more than half the length of the free edge. \\n As a side note, I used to be a  serious  nail biter all through my childhood and high school. I have had occasional relapses in my adulthood as well, but the point I\\'m trying to make is that my nail beds are  really  short, and I think my nails that short show about 1/8\" of my fingertips and look so sad!',\n",
       "  'content_len': 130,\n",
       "  'summary': 'OPI Nail Envy!',\n",
       "  'summary_len': 3,\n",
       "  'id': 'c6ahuc4',\n",
       "  'subreddit': 'RedditLaqueristas',\n",
       "  'subreddit_id': 't5_2se5q'}]"
      ]
     },
     "execution_count": 26,
     "metadata": {},
     "output_type": "execute_result"
    }
   ],
   "source": [
    "reddit_posts[3:6]"
   ]
  },
  {
   "cell_type": "code",
   "execution_count": 29,
   "metadata": {},
   "outputs": [],
   "source": [
    "# [p for p in reddit_posts if p['subreddit'] == 'Borderlands']\n",
    "subreddits = Counter()\n",
    "missing = 0\n",
    "for p in reddit_posts:\n",
    "    if 'subreddit' not in p:\n",
    "        missing+=1\n",
    "    else:\n",
    "        subreddits[p['subreddit']] += 1"
   ]
  },
  {
   "cell_type": "code",
   "execution_count": 30,
   "metadata": {},
   "outputs": [
    {
     "data": {
      "text/plain": [
       "136"
      ]
     },
     "execution_count": 30,
     "metadata": {},
     "output_type": "execute_result"
    }
   ],
   "source": [
    "missing"
   ]
  },
  {
   "cell_type": "code",
   "execution_count": 31,
   "metadata": {},
   "outputs": [
    {
     "data": {
      "text/plain": [
       "[('AskReddit', 589947),\n",
       " ('relationships', 352049),\n",
       " ('leagueoflegends', 109307),\n",
       " ('tifu', 52219),\n",
       " ('relationship_advice', 50416),\n",
       " ('trees', 47286),\n",
       " ('gaming', 43851),\n",
       " ('atheism', 43268),\n",
       " ('AdviceAnimals', 40783),\n",
       " ('funny', 40171),\n",
       " ('politics', 36518),\n",
       " ('pics', 35098),\n",
       " ('sex', 28806),\n",
       " ('WTF', 25781),\n",
       " ('explainlikeimfive', 25482),\n",
       " ('todayilearned', 25004),\n",
       " ('Fitness', 22694),\n",
       " ('IAmA', 22689),\n",
       " ('worldnews', 22577),\n",
       " ('DotA2', 22405),\n",
       " ('TwoXChromosomes', 21562),\n",
       " ('videos', 20567),\n",
       " ('DestinyTheGame', 19878),\n",
       " ('reddit.com', 19020),\n",
       " ('offmychest', 17175),\n",
       " ('buildapc', 14817),\n",
       " ('AskMen', 14538),\n",
       " ('personalfinance', 14403),\n",
       " ('summonerschool', 13806),\n",
       " ('technology', 13700),\n",
       " ('wow', 13309),\n",
       " ('NoFap', 13203),\n",
       " ('starcraft', 12911),\n",
       " ('dating_advice', 12361),\n",
       " ('askscience', 12037),\n",
       " ('Games', 11820),\n",
       " ('news', 11660),\n",
       " ('talesfromtechsupport', 11537),\n",
       " ('depression', 11365),\n",
       " ('pcmasterrace', 11348),\n",
       " ('Guildwars2', 10948),\n",
       " ('magicTCG', 10624),\n",
       " ('loseit', 10559),\n",
       " ('GlobalOffensive', 10443),\n",
       " ('electronic_cigarette', 10430),\n",
       " ('movies', 10420),\n",
       " ('self', 10166),\n",
       " ('Advice', 10115),\n",
       " ('Drugs', 10035),\n",
       " ('teenagers', 9957),\n",
       " ('techsupport', 9544),\n",
       " ('legaladvice', 9523),\n",
       " ('hearthstone', 9500),\n",
       " ('asoiaf', 9351),\n",
       " ('AskWomen', 9278),\n",
       " ('changemyview', 9212),\n",
       " ('ADHD', 9169),\n",
       " ('Christianity', 9146),\n",
       " ('science', 9062),\n",
       " ('Minecraft', 8983),\n",
       " ('nfl', 8841),\n",
       " ('TalesFromRetail', 8785),\n",
       " ('seduction', 8784),\n",
       " ('fffffffuuuuuuuuuuuu', 8542),\n",
       " ('guns', 8403),\n",
       " ('Android', 7942),\n",
       " ('Smite', 7869),\n",
       " ('DnD', 7535),\n",
       " ('motorcycles', 7457),\n",
       " ('dayz', 7324),\n",
       " ('ffxiv', 7173),\n",
       " ('tf2', 7152),\n",
       " ('keto', 7139),\n",
       " ('OkCupid', 7035),\n",
       " ('Diablo', 6860),\n",
       " ('raisedbynarcissists', 6698),\n",
       " ('Music', 6472),\n",
       " ('Planetside', 6468),\n",
       " ('SquaredCircle', 6465),\n",
       " ('pokemon', 6464),\n",
       " ('nba', 6333),\n",
       " ('skyrim', 6317),\n",
       " ('anime', 5868),\n",
       " ('Bitcoin', 5794),\n",
       " ('rpg', 5741),\n",
       " ('soccer', 5740),\n",
       " ('malefashionadvice', 5671),\n",
       " ('truegaming', 5647),\n",
       " ('Eve', 5489),\n",
       " ('BreakUps', 5394),\n",
       " ('sysadmin', 5371),\n",
       " ('jobs', 5233),\n",
       " ('photography', 5157),\n",
       " ('MensRights', 5136),\n",
       " ('Guitar', 5135),\n",
       " ('BabyBumps', 5035),\n",
       " ('TheRedPill', 4973),\n",
       " ('fantasyfootball', 4968),\n",
       " ('fatpeoplestories', 4926),\n",
       " ('CFB', 4912)]"
      ]
     },
     "execution_count": 31,
     "metadata": {},
     "output_type": "execute_result"
    }
   ],
   "source": [
    "subreddits.most_common(100)\n"
   ]
  },
  {
   "cell_type": "code",
   "execution_count": 23,
   "metadata": {},
   "outputs": [
    {
     "ename": "AttributeError",
     "evalue": "'Counter' object has no attribute 'least_common'",
     "output_type": "error",
     "traceback": [
      "\u001b[0;31m---------------------------------------------------------------------------\u001b[0m",
      "\u001b[0;31mAttributeError\u001b[0m                            Traceback (most recent call last)",
      "\u001b[0;32m<ipython-input-23-5e2972e57791>\u001b[0m in \u001b[0;36m<module>\u001b[0;34m\u001b[0m\n\u001b[0;32m----> 1\u001b[0;31m \u001b[0msubreddits\u001b[0m\u001b[0;34m.\u001b[0m\u001b[0mleast_common\u001b[0m\u001b[0;34m(\u001b[0m\u001b[0;36m10\u001b[0m\u001b[0;34m)\u001b[0m\u001b[0;34m\u001b[0m\u001b[0;34m\u001b[0m\u001b[0m\n\u001b[0m",
      "\u001b[0;31mAttributeError\u001b[0m: 'Counter' object has no attribute 'least_common'"
     ]
    }
   ],
   "source": [
    "subreddits.least_common(10)\n"
   ]
  },
  {
   "cell_type": "code",
   "execution_count": null,
   "metadata": {},
   "outputs": [],
   "source": []
  }
 ],
 "metadata": {
  "environment": {
   "name": "tf2-2-2-gpu.2-2.m49",
   "type": "gcloud",
   "uri": "gcr.io/deeplearning-platform-release/tf2-2-2-gpu.2-2:m49"
  },
  "kernelspec": {
   "display_name": "Python 3",
   "language": "python",
   "name": "python3"
  },
  "language_info": {
   "codemirror_mode": {
    "name": "ipython",
    "version": 3
   },
   "file_extension": ".py",
   "mimetype": "text/x-python",
   "name": "python",
   "nbconvert_exporter": "python",
   "pygments_lexer": "ipython3",
   "version": "3.7.6"
  }
 },
 "nbformat": 4,
 "nbformat_minor": 4
}
