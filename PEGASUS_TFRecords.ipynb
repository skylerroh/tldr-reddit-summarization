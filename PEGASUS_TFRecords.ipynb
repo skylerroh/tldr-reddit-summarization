{
 "cells": [
  {
   "cell_type": "code",
   "execution_count": 4,
   "metadata": {},
   "outputs": [
    {
     "name": "stdout",
     "output_type": "stream",
     "text": [
      "The autoreload extension is already loaded. To reload it, use:\n",
      "  %reload_ext autoreload\n"
     ]
    }
   ],
   "source": [
    "%load_ext autoreload\n",
    "%autoreload 2\n",
    "import utils\n",
    "import json\n",
    "import sys\n",
    "# sys.path.append('/home/jupyter/tldr-reddit-summarization/pegasus')\n",
    "import pegasus\n",
    "import tensorflow as tf\n",
    "# import tensorflow_datasets as tfds"
   ]
  },
  {
   "cell_type": "code",
   "execution_count": 87,
   "metadata": {},
   "outputs": [
    {
     "data": {
      "text/plain": [
       "'2.1.0'"
      ]
     },
     "execution_count": 87,
     "metadata": {},
     "output_type": "execute_result"
    }
   ],
   "source": [
    "tf.__version__"
   ]
  },
  {
   "cell_type": "markdown",
   "metadata": {},
   "source": [
    "# Create TFRecords for PEGASUS library"
   ]
  },
  {
   "cell_type": "code",
   "execution_count": 6,
   "metadata": {},
   "outputs": [
    {
     "name": "stdout",
     "output_type": "stream",
     "text": [
      "0\n",
      "1000000\n",
      "2000000\n",
      "3000000\n"
     ]
    }
   ],
   "source": [
    "reddit_posts = utils.load_reddit_data_from_json()"
   ]
  },
  {
   "cell_type": "code",
   "execution_count": 7,
   "metadata": {},
   "outputs": [],
   "source": [
    "subreddits, content, summary = utils.extract_tensors(reddit_posts)"
   ]
  },
  {
   "cell_type": "code",
   "execution_count": 8,
   "metadata": {},
   "outputs": [],
   "source": [
    "features_dataset = tf.data.Dataset.from_tensor_slices({'topics':subreddits, \n",
    "                                                       'inputs': content, \n",
    "                                                       'targets': summary})"
   ]
  },
  {
   "cell_type": "code",
   "execution_count": 10,
   "metadata": {},
   "outputs": [],
   "source": [
    "# serialized_features_dataset = features_dataset.map(utils.tf_serialize_example)\n",
    "\n",
    "# def generator():\n",
    "#     for features in features_dataset.take(100):\n",
    "#         yield utils.serialize_example(*features)\n",
    "\n",
    "# serialized_features_dataset = tf.data.Dataset.from_generator(\n",
    "#     generator, output_types=tf.string, output_shapes=())"
   ]
  },
  {
   "cell_type": "code",
   "execution_count": 14,
   "metadata": {},
   "outputs": [],
   "source": [
    "def write_tfrecord_file(dataset, filename):\n",
    "    serialized_features_dataset = dataset.map(utils.tf_serialize_example)\n",
    "    writer = tf.data.experimental.TFRecordWriter(filename)\n",
    "    writer.write(serialized_features_dataset)"
   ]
  },
  {
   "cell_type": "code",
   "execution_count": 15,
   "metadata": {},
   "outputs": [],
   "source": [
    "write_tfrecord_file(features_dataset.take(1000), 'reddit_small.tfrecord')"
   ]
  },
  {
   "cell_type": "code",
   "execution_count": 16,
   "metadata": {},
   "outputs": [],
   "source": [
    "write_tfrecord_file(features_dataset, 'reddit_all.tfrecord')"
   ]
  },
  {
   "cell_type": "markdown",
   "metadata": {},
   "source": [
    "## Read TFRecords"
   ]
  },
  {
   "cell_type": "code",
   "execution_count": 17,
   "metadata": {},
   "outputs": [],
   "source": []
  },
  {
   "cell_type": "code",
   "execution_count": 22,
   "metadata": {},
   "outputs": [],
   "source": [
    "DATASET_SIZE = subreddits.shape[0]\n",
    "\n",
    "train_size = int(0.8 * DATASET_SIZE)\n",
    "val_size = int(0.1 * DATASET_SIZE)\n",
    "test_size = int(0.1 * DATASET_SIZE)\n",
    "\n",
    "full_dataset = utils.build('reddit_all.tfrecord', True)\n",
    "full_dataset = full_dataset.shuffle(seed=20200705, buffer_size=2**20)\n",
    "train_dataset = full_dataset.take(train_size)\n",
    "test_dataset = full_dataset.skip(train_size)\n",
    "val_dataset = test_dataset.skip(val_size)\n",
    "test_dataset = test_dataset.take(test_size)\n",
    "\n",
    "datasets = {'train': train_dataset, 'eval': val_dataset, 'test': test_dataset}"
   ]
  },
  {
   "cell_type": "code",
   "execution_count": 24,
   "metadata": {},
   "outputs": [],
   "source": [
    "for key, dataset in datasets.items():\n",
    "    filename = f\"reddit_{key}.tfrecord\"\n",
    "    write_tfrecord_file(dataset, filename)"
   ]
  },
  {
   "cell_type": "markdown",
   "metadata": {},
   "source": [
    "# Split into subreddits"
   ]
  },
  {
   "cell_type": "code",
   "execution_count": 101,
   "metadata": {},
   "outputs": [],
   "source": [
    "top50 = ['AskReddit',\n",
    " 'relationships',\n",
    " 'leagueoflegends',\n",
    " 'tifu',\n",
    " 'relationship_advice',\n",
    " 'trees',\n",
    " 'gaming',\n",
    " 'atheism',\n",
    " 'AdviceAnimals',\n",
    " 'funny',\n",
    " 'politics',\n",
    " 'pics',\n",
    " 'sex',\n",
    " 'WTF',\n",
    " 'explainlikeimfive',\n",
    " 'todayilearned',\n",
    " 'Fitness',\n",
    " 'IAmA',\n",
    " 'worldnews',\n",
    " 'DotA2',\n",
    " 'TwoXChromosomes',\n",
    " 'videos',\n",
    " 'DestinyTheGame',\n",
    " 'reddit.com',\n",
    " 'offmychest',\n",
    " 'buildapc',\n",
    " 'AskMen',\n",
    " 'personalfinance',\n",
    " 'summonerschool',\n",
    " 'technology',\n",
    " 'wow',\n",
    " 'NoFap',\n",
    " 'starcraft',\n",
    " 'dating_advice',\n",
    " 'askscience',\n",
    " 'Games',\n",
    " 'news',\n",
    " 'talesfromtechsupport',\n",
    " 'depression',\n",
    " 'pcmasterrace',\n",
    " 'Guildwars2',\n",
    " 'magicTCG',\n",
    " 'loseit',\n",
    " 'GlobalOffensive',\n",
    " 'electronic_cigarette',\n",
    " 'movies',\n",
    " 'self',\n",
    " 'Advice',\n",
    " 'Drugs',\n",
    " 'teenagers']\n",
    "\n",
    "\n",
    "def filter_subreddit(record, subreddit):\n",
    "#     print(records)\n",
    "#     mask = tf.equal(records['topics'], tf.constant(subreddit, tf.string))\n",
    "#     print(mask)\n",
    "#     for c in records:\n",
    "#         records[c] = tf.boolean_mask(records[c], mask)\n",
    "#     return records\n",
    "    return record['topics'] == subreddit"
   ]
  },
  {
   "cell_type": "code",
   "execution_count": 103,
   "metadata": {},
   "outputs": [],
   "source": [
    "for key in ('test', 'eval', 'train'):\n",
    "    dataset = build(f'reddit_{key}.tfrecord', True)\n",
    "    dataset.cache()\n",
    "    for subreddit in top50:\n",
    "        sub_r = dataset.filter(lambda record: filter_subreddit(record, subreddit))\n",
    "        filename = f'subreddits_data/subreddit_{subreddit}_{key}.tfrecord'\n",
    "        writer = tf.data.experimental.TFRecordWriter(filename)\n",
    "        write_tfrecord_file(sub_r, filename)"
   ]
  },
  {
   "cell_type": "code",
   "execution_count": null,
   "metadata": {},
   "outputs": [],
   "source": []
  },
  {
   "cell_type": "code",
   "execution_count": null,
   "metadata": {},
   "outputs": [],
   "source": []
  }
 ],
 "metadata": {
  "environment": {
   "name": "tf2-2-2-gpu.2-2.m49",
   "type": "gcloud",
   "uri": "gcr.io/deeplearning-platform-release/tf2-2-2-gpu.2-2:m49"
  },
  "kernelspec": {
   "display_name": "Python 3",
   "language": "python",
   "name": "python3"
  },
  "language_info": {
   "codemirror_mode": {
    "name": "ipython",
    "version": 3
   },
   "file_extension": ".py",
   "mimetype": "text/x-python",
   "name": "python",
   "nbconvert_exporter": "python",
   "pygments_lexer": "ipython3",
   "version": "3.7.6"
  }
 },
 "nbformat": 4,
 "nbformat_minor": 4
}
