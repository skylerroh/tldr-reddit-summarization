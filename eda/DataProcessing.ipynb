{
 "cells": [
  {
   "cell_type": "code",
   "execution_count": 7,
   "metadata": {},
   "outputs": [],
   "source": [
    "import json\n",
    "import pandas as pd\n",
    "import numpy as np\n",
    "import matplotlib.pyplot as plt\n",
    "import seaborn as sns\n",
    "import tensorflow as tf\n",
    "\n",
    "from collections import Counter\n",
    "from tensorflow.keras import layers\n",
    "from tensorflow.keras.backend import sparse_categorical_crossentropy\n",
    "from tensorflow.keras.layers import Dense, Flatten\n",
    "from transformers import BertTokenizer, TFBertModel\n",
    "import sentencepiece as spm\n",
    "import utils"
   ]
  },
  {
   "cell_type": "code",
   "execution_count": 18,
   "metadata": {},
   "outputs": [
    {
     "name": "stdout",
     "output_type": "stream",
     "text": [
      "DataProcessing.ipynb      README.md                 corpus-webis-tldr-17.json\r\n"
     ]
    }
   ],
   "source": [
    "!ls"
   ]
  },
  {
   "cell_type": "code",
   "execution_count": 19,
   "metadata": {},
   "outputs": [
    {
     "name": "stdout",
     "output_type": "stream",
     "text": [
      "\u001b[1;39m[\r\n",
      "  \u001b[0;32m\"author\"\u001b[0m\u001b[1;39m,\r\n",
      "  \u001b[0;32m\"body\"\u001b[0m\u001b[1;39m,\r\n",
      "  \u001b[0;32m\"content\"\u001b[0m\u001b[1;39m,\r\n",
      "  \u001b[0;32m\"content_len\"\u001b[0m\u001b[1;39m,\r\n",
      "  \u001b[0;32m\"id\"\u001b[0m\u001b[1;39m,\r\n",
      "  \u001b[0;32m\"normalizedBody\"\u001b[0m\u001b[1;39m,\r\n",
      "  \u001b[0;32m\"subreddit\"\u001b[0m\u001b[1;39m,\r\n",
      "  \u001b[0;32m\"subreddit_id\"\u001b[0m\u001b[1;39m,\r\n",
      "  \u001b[0;32m\"summary\"\u001b[0m\u001b[1;39m,\r\n",
      "  \u001b[0;32m\"summary_len\"\u001b[0m\u001b[1;39m\r\n",
      "\u001b[1;39m]\u001b[0m\r\n"
     ]
    }
   ],
   "source": [
    "!head -1 corpus-webis-tldr-17.json | jq 'keys'"
   ]
  },
  {
   "cell_type": "code",
   "execution_count": 20,
   "metadata": {},
   "outputs": [
    {
     "name": "stdout",
     "output_type": "stream",
     "text": [
      "{\"author\":\"raysofdarkmatter\",\"body\":\"I think it should be fixed on either UTC standard or UTC+1 year around, with the current zone offsets.\\n\\nMoving timescales add a lot of complexity to the implementation of timekeeping systems and have [dubious value]( \\n\\nI think seasonal shifting time made sense in the pre-electric past, when timekeeping was more flexible and artificial light was inefficient and often dangerous. \\n\\nNow we have machines that work easily with simple timekeeping rules, and it's more beneficial to spend a small amount on energy for lighting, and save the larger cost of engineering things to work with the complex timekeeping rules, as well as saving the irritation to humans.\\n\\nLighting has gotten much more efficient over time; we can squeeze out a lot more photons per unit of energy from a 2012 CFL or LED than a candle could in 1780, or a lightbulb could in 1950. \\n\\nThere's a lot of room for improvement in how we use lights as well; as lighting control gets more intelligent, there will be a lot of savings from not illuminating inactive spaces constantly.\\n\\ntl;dr: Shifting seasonal time is no longer worth it.\",\"normalizedBody\":\"I think it should be fixed on either UTC standard or UTC+1 year around, with the current zone offsets. \\n Moving timescales add a lot of complexity to the implementation of timekeeping systems and have [dubious value]( \\n I think seasonal shifting time made sense in the pre-electric past, when timekeeping was more flexible and artificial light was inefficient and often dangerous. \\n Now we have machines that work easily with simple timekeeping rules, and it's more beneficial to spend a small amount on energy for lighting, and save the larger cost of engineering things to work with the complex timekeeping rules, as well as saving the irritation to humans. \\n Lighting has gotten much more efficient over time; we can squeeze out a lot more photons per unit of energy from a 2012 CFL or LED than a candle could in 1780, or a lightbulb could in 1950. \\n There's a lot of room for improvement in how we use lights as well; as lighting control gets more intelligent, there will be a lot of savings from not illuminating inactive spaces constantly. \\n tl;dr: Shifting seasonal time is no longer worth it. \\n\",\"content\":\"I think it should be fixed on either UTC standard or UTC+1 year around, with the current zone offsets. \\n Moving timescales add a lot of complexity to the implementation of timekeeping systems and have [dubious value]( \\n I think seasonal shifting time made sense in the pre-electric past, when timekeeping was more flexible and artificial light was inefficient and often dangerous. \\n Now we have machines that work easily with simple timekeeping rules, and it's more beneficial to spend a small amount on energy for lighting, and save the larger cost of engineering things to work with the complex timekeeping rules, as well as saving the irritation to humans. \\n Lighting has gotten much more efficient over time; we can squeeze out a lot more photons per unit of energy from a 2012 CFL or LED than a candle could in 1780, or a lightbulb could in 1950. \\n There's a lot of room for improvement in how we use lights as well; as lighting control gets more intelligent, there will be a lot of savings from not illuminating inactive spaces constantly.\",\"content_len\":178,\"summary\":\"Shifting seasonal time is no longer worth it.\",\"summary_len\":8,\"id\":\"c69al3r\",\"subreddit\":\"math\",\"subreddit_id\":\"t5_2qh0n\"}\r\n"
     ]
    }
   ],
   "source": [
    "!head -1 corpus-webis-tldr-17.json"
   ]
  },
  {
   "cell_type": "code",
   "execution_count": 5,
   "metadata": {},
   "outputs": [
    {
     "name": "stdout",
     "output_type": "stream",
     "text": [
      "0\n",
      "100000\n",
      "200000\n",
      "300000\n",
      "400000\n",
      "500000\n",
      "600000\n",
      "700000\n",
      "800000\n",
      "900000\n",
      "1000000\n",
      "1100000\n",
      "1200000\n",
      "1300000\n",
      "1400000\n",
      "1500000\n",
      "1600000\n",
      "1700000\n",
      "1800000\n",
      "1900000\n",
      "2000000\n",
      "2100000\n",
      "2200000\n",
      "2300000\n",
      "2400000\n",
      "2500000\n",
      "2600000\n",
      "2700000\n",
      "2800000\n",
      "2900000\n",
      "3000000\n",
      "3100000\n",
      "3200000\n",
      "3300000\n",
      "3400000\n",
      "3500000\n",
      "3600000\n",
      "3700000\n",
      "3800000\n"
     ]
    }
   ],
   "source": [
    "reddit_posts = []\n",
    "with open('corpus-webis-tldr-17.json', 'r') as f:\n",
    "    for i, line in enumerate(f):\n",
    "        post = json.loads(line)\n",
    "        del post['body']\n",
    "        del post['normalizedBody']\n",
    "        reddit_posts.append(post)\n",
    "        if i % 10**6 == 0:\n",
    "            print(i)"
   ]
  },
  {
   "cell_type": "code",
   "execution_count": 6,
   "metadata": {},
   "outputs": [],
   "source": [
    "# [p for p in reddit_posts if p['subreddit'] == 'Borderlands']\n",
    "subreddits = Counter()\n",
    "missing = 0\n",
    "for p in reddit_posts:\n",
    "    if 'subreddit' not in p:\n",
    "        missing+=1\n",
    "    else:\n",
    "        subreddits[p['subreddit']] += 1"
   ]
  },
  {
   "cell_type": "code",
   "execution_count": 7,
   "metadata": {},
   "outputs": [
    {
     "data": {
      "text/plain": [
       "136"
      ]
     },
     "execution_count": 7,
     "metadata": {},
     "output_type": "execute_result"
    }
   ],
   "source": [
    "# number of posts missing a subreddit\n",
    "missing"
   ]
  },
  {
   "cell_type": "code",
   "execution_count": 16,
   "metadata": {},
   "outputs": [
    {
     "data": {
      "text/plain": [
       "29650"
      ]
     },
     "execution_count": 16,
     "metadata": {},
     "output_type": "execute_result"
    }
   ],
   "source": [
    "# total number of subreddits in the dataset\n",
    "len(subreddits)"
   ]
  },
  {
   "cell_type": "code",
   "execution_count": 42,
   "metadata": {},
   "outputs": [
    {
     "data": {
      "text/plain": [
       "[('AskReddit', 589947),\n",
       " ('relationships', 352049),\n",
       " ('leagueoflegends', 109307),\n",
       " ('tifu', 52219),\n",
       " ('relationship_advice', 50416),\n",
       " ('trees', 47286),\n",
       " ('gaming', 43851),\n",
       " ('atheism', 43268),\n",
       " ('AdviceAnimals', 40783),\n",
       " ('funny', 40171),\n",
       " ('politics', 36518),\n",
       " ('pics', 35098),\n",
       " ('sex', 28806),\n",
       " ('WTF', 25781),\n",
       " ('explainlikeimfive', 25482),\n",
       " ('todayilearned', 25004),\n",
       " ('Fitness', 22694),\n",
       " ('IAmA', 22689),\n",
       " ('worldnews', 22577),\n",
       " ('DotA2', 22405),\n",
       " ('TwoXChromosomes', 21562),\n",
       " ('videos', 20567),\n",
       " ('DestinyTheGame', 19878),\n",
       " ('reddit.com', 19020),\n",
       " ('offmychest', 17175),\n",
       " ('buildapc', 14817),\n",
       " ('AskMen', 14538),\n",
       " ('personalfinance', 14403),\n",
       " ('summonerschool', 13806),\n",
       " ('technology', 13700),\n",
       " ('wow', 13309),\n",
       " ('NoFap', 13203),\n",
       " ('starcraft', 12911),\n",
       " ('dating_advice', 12361),\n",
       " ('askscience', 12037),\n",
       " ('Games', 11820),\n",
       " ('news', 11660),\n",
       " ('talesfromtechsupport', 11537),\n",
       " ('depression', 11365),\n",
       " ('pcmasterrace', 11348),\n",
       " ('Guildwars2', 10948),\n",
       " ('magicTCG', 10624),\n",
       " ('loseit', 10559),\n",
       " ('GlobalOffensive', 10443),\n",
       " ('electronic_cigarette', 10430),\n",
       " ('movies', 10420),\n",
       " ('self', 10166),\n",
       " ('Advice', 10115),\n",
       " ('Drugs', 10035),\n",
       " ('teenagers', 9957),\n",
       " ('techsupport', 9544),\n",
       " ('legaladvice', 9523),\n",
       " ('hearthstone', 9500),\n",
       " ('asoiaf', 9351),\n",
       " ('AskWomen', 9278),\n",
       " ('changemyview', 9212),\n",
       " ('ADHD', 9169),\n",
       " ('Christianity', 9146),\n",
       " ('science', 9062),\n",
       " ('Minecraft', 8983),\n",
       " ('nfl', 8841),\n",
       " ('TalesFromRetail', 8785),\n",
       " ('seduction', 8784),\n",
       " ('fffffffuuuuuuuuuuuu', 8542),\n",
       " ('guns', 8403),\n",
       " ('Android', 7942),\n",
       " ('Smite', 7869),\n",
       " ('DnD', 7535),\n",
       " ('motorcycles', 7457),\n",
       " ('dayz', 7324),\n",
       " ('ffxiv', 7173),\n",
       " ('tf2', 7152),\n",
       " ('keto', 7139),\n",
       " ('OkCupid', 7035),\n",
       " ('Diablo', 6860),\n",
       " ('raisedbynarcissists', 6698),\n",
       " ('Music', 6472),\n",
       " ('Planetside', 6468),\n",
       " ('SquaredCircle', 6465),\n",
       " ('pokemon', 6464),\n",
       " ('nba', 6333),\n",
       " ('skyrim', 6317),\n",
       " ('anime', 5868),\n",
       " ('Bitcoin', 5794),\n",
       " ('rpg', 5741),\n",
       " ('soccer', 5740),\n",
       " ('malefashionadvice', 5671),\n",
       " ('truegaming', 5647),\n",
       " ('Eve', 5489),\n",
       " ('BreakUps', 5394),\n",
       " ('sysadmin', 5371),\n",
       " ('jobs', 5233),\n",
       " ('photography', 5157),\n",
       " ('MensRights', 5136),\n",
       " ('Guitar', 5135),\n",
       " ('BabyBumps', 5035),\n",
       " ('TheRedPill', 4973),\n",
       " ('fantasyfootball', 4968),\n",
       " ('fatpeoplestories', 4926),\n",
       " ('CFB', 4912)]"
      ]
     },
     "execution_count": 42,
     "metadata": {},
     "output_type": "execute_result"
    }
   ],
   "source": [
    "# 100 most common subreddits in the dataset\n",
    "top_100 = set([k for k, v in subreddits.most_common(100)])\n",
    "subreddits.most_common(100)"
   ]
  },
  {
   "cell_type": "code",
   "execution_count": 15,
   "metadata": {},
   "outputs": [
    {
     "data": {
      "text/plain": [
       "<matplotlib.axes._subplots.AxesSubplot at 0x7fda52d36290>"
      ]
     },
     "execution_count": 15,
     "metadata": {},
     "output_type": "execute_result"
    },
    {
     "data": {
      "image/png": "[encoded data removed]",
      "text/plain": [
       "<Figure size 432x288 with 1 Axes>"
      ]
     },
     "metadata": {
      "needs_background": "light"
     },
     "output_type": "display_data"
    }
   ],
   "source": [
    "subreddit_counts = pd.Series(list(subreddits.values()))\n",
    "np.log(subreddit_counts).hist()\n",
    "# np.log(subreddit_counts).hist(cumulative=True)"
   ]
  },
  {
   "cell_type": "code",
   "execution_count": 2,
   "metadata": {},
   "outputs": [
    {
     "data": {
      "text/plain": [
       "96000"
      ]
     },
     "execution_count": 2,
     "metadata": {},
     "output_type": "execute_result"
    }
   ],
   "source": [
    "sp = spm.SentencePieceProcessor(model_file=\"../pegasus/ckpt/pegasus_ckpt/c4.unigram.newline.10pct.96000.model\")\n",
    "sp.vocab_size()"
   ]
  },
  {
   "cell_type": "code",
   "execution_count": 24,
   "metadata": {},
   "outputs": [
    {
     "data": {
      "text/plain": [
       "-1"
      ]
     },
     "execution_count": 24,
     "metadata": {},
     "output_type": "execute_result"
    }
   ],
   "source": [
    "sp.bos_id()"
   ]
  },
  {
   "cell_type": "code",
   "execution_count": 5,
   "metadata": {},
   "outputs": [
    {
     "data": {
      "text/plain": [
       "''"
      ]
     },
     "execution_count": 5,
     "metadata": {},
     "output_type": "execute_result"
    }
   ],
   "source": [
    "sp.decode([1])"
   ]
  },
  {
   "cell_type": "code",
   "execution_count": 25,
   "metadata": {},
   "outputs": [
    {
     "data": {
      "text/plain": [
       "0"
      ]
     },
     "execution_count": 25,
     "metadata": {},
     "output_type": "execute_result"
    }
   ],
   "source": [
    "sp.piece_to_id('<pad>')"
   ]
  },
  {
   "cell_type": "code",
   "execution_count": 4,
   "metadata": {},
   "outputs": [
    {
     "data": {
      "text/plain": [
       "2"
      ]
     },
     "execution_count": 4,
     "metadata": {},
     "output_type": "execute_result"
    }
   ],
   "source": [
    "sp.unk_id()"
   ]
  },
  {
   "cell_type": "code",
   "execution_count": 23,
   "metadata": {},
   "outputs": [
    {
     "name": "stdout",
     "output_type": "stream",
     "text": [
      "['▁Ask', 'Red', 'dit']\n",
      "['▁relationships']\n",
      "['▁league', 'of', 'legend', 's']\n",
      "['▁ti', 'fu']\n",
      "['▁relationship', '_', 'advice']\n",
      "['▁trees']\n",
      "['▁gaming']\n",
      "['▁atheism']\n",
      "['▁Advice', 'Animal', 's']\n",
      "['▁funny']\n",
      "['▁politics']\n",
      "['▁pics']\n",
      "['▁sex']\n",
      "['▁WTF']\n",
      "['▁explain', 'like', 'im', 'five']\n",
      "['▁today', 'i', 'learned']\n",
      "['▁Fitness']\n",
      "['▁I', 'Am', 'A']\n",
      "['▁world', 'news']\n",
      "['▁Dot', 'A', '2']\n",
      "['▁Two', 'X', 'Ch', 'rom', 'osomes']\n",
      "['▁videos']\n",
      "['▁Destiny', 'The', 'Game']\n",
      "['▁reddit', '.', 'com']\n",
      "['▁off', 'my', 'chest']\n",
      "['▁build', 'a', 'pc']\n",
      "['▁Ask', 'Men']\n",
      "['▁personal', 'finance']\n",
      "['▁summon', 'er', 'school']\n",
      "['▁technology']\n",
      "['▁wow']\n",
      "['▁No', 'F', 'ap']\n",
      "['▁star', 'craft']\n",
      "['▁dating', '_', 'advice']\n",
      "['▁ask', 'science']\n",
      "['▁Games']\n",
      "['▁news']\n",
      "['▁tales', 'from', 'tech', 'support']\n",
      "['▁depression']\n",
      "['▁pc', 'master', 'race']\n",
      "['▁Guild', 'war', 's', '2']\n",
      "['▁magic', 'TC', 'G']\n",
      "['▁lose', 'it']\n",
      "['▁Global', 'Off', 'ensi', 've']\n",
      "['▁electronic', '_', 'cigarette']\n",
      "['▁movies']\n",
      "['▁self']\n",
      "['▁Advice']\n",
      "['▁Drugs']\n",
      "['▁teenagers']\n"
     ]
    }
   ],
   "source": [
    "for t in utils.top50subreddits[:50]:\n",
    "    print(sp.encode(t, out_type=str))"
   ]
  },
  {
   "cell_type": "code",
   "execution_count": 49,
   "metadata": {},
   "outputs": [
    {
     "name": "stdout",
     "output_type": "stream",
     "text": [
      "2382081\n"
     ]
    }
   ],
   "source": [
    "num_unk = []\n",
    "unknowns = Counter()\n",
    "top_100_subreddit_posts = list(filter(lambda x: 'subreddit' in x and x['subreddit'] in top_100, reddit_posts))\n",
    "print(len(top_100_subreddit_posts))\n",
    "\n",
    "for i, post in enumerate(top_100_subreddit_posts[:100000]):\n",
    "    if post['subreddit'] in top_100:\n",
    "        encoded = sp.encode(post['content'])\n",
    "        unks = [i for i, p in enumerate(encoded) if p==sp.unk_id()]\n",
    "        if c > 0:\n",
    "            pieces = sp.encode(post['content'], out_type=str)\n",
    "            unknowns += Counter([pieces[i] for i in unks])\n",
    "        num_unk.append(c / len(encoded))"
   ]
  },
  {
   "cell_type": "code",
   "execution_count": 51,
   "metadata": {},
   "outputs": [
    {
     "data": {
      "text/plain": [
       "[('~', 1744),\n",
       " ('<', 1559),\n",
       " ('^', 1334),\n",
       " ('\\\\', 220),\n",
       " ('́', 192),\n",
       " ('^^', 158),\n",
       " ('`', 154),\n",
       " ('}', 124),\n",
       " ('{', 123),\n",
       " ('°', 118),\n",
       " ('€', 104),\n",
       " ('ö', 68),\n",
       " ('~~', 66),\n",
       " ('ಠ', 49),\n",
       " ('±', 46),\n",
       " ('ü', 45),\n",
       " ('ñ', 44),\n",
       " ('ä', 41),\n",
       " ('ó', 40),\n",
       " ('→', 39),\n",
       " ('×', 37),\n",
       " ('á', 36),\n",
       " ('à', 36),\n",
       " ('ø', 33),\n",
       " ('ï', 31),\n",
       " ('í', 30),\n",
       " ('æ', 30),\n",
       " ('§', 28),\n",
       " ('ð', 25),\n",
       " ('͇', 25),\n",
       " ('è', 25),\n",
       " ('·', 24),\n",
       " ('φ', 24),\n",
       " ('»', 21),\n",
       " ('Ω', 21),\n",
       " ('⟩', 21),\n",
       " ('«', 20),\n",
       " ('с', 20),\n",
       " ('ú', 18),\n",
       " ('ω', 18),\n",
       " ('−', 18),\n",
       " ('⁄', 17),\n",
       " ('å', 17),\n",
       " ('ç', 16),\n",
       " ('``', 16),\n",
       " ('}{', 15),\n",
       " ('ō', 13),\n",
       " ('^^^', 13),\n",
       " ('Δ', 13),\n",
       " ('ē', 12),\n",
       " ('^^^^^', 12),\n",
       " ('š', 11),\n",
       " ('μ', 11),\n",
       " ('ê', 11),\n",
       " ('Ø', 10),\n",
       " ('ò', 10),\n",
       " ('¢', 9),\n",
       " ('∆', 9),\n",
       " ('É', 8),\n",
       " ('≥', 8),\n",
       " ('þ', 8),\n",
       " ('^{', 8),\n",
       " ('\\\\^', 7),\n",
       " ('ā', 7),\n",
       " ('ë', 7),\n",
       " ('ß', 7),\n",
       " ('ã', 7),\n",
       " ('►', 7),\n",
       " ('⟨', 7),\n",
       " ('к', 6),\n",
       " ('λ', 6),\n",
       " ('¥', 6),\n",
       " ('‐', 6),\n",
       " ('Þ', 5),\n",
       " ('͇^', 5),\n",
       " ('√', 5),\n",
       " ('Ук', 5),\n",
       " ('α', 5),\n",
       " ('й', 5),\n",
       " ('п', 5),\n",
       " ('β', 5),\n",
       " ('÷', 5),\n",
       " ('―', 5),\n",
       " ('‽', 5),\n",
       " ('ə', 5),\n",
       " ('Č', 5),\n",
       " ('¡', 4),\n",
       " ('≈', 4),\n",
       " ('ग', 4),\n",
       " ('Ö', 4),\n",
       " ('¬', 4),\n",
       " ('π', 4),\n",
       " ('у', 4),\n",
       " ('в', 4),\n",
       " ('ы', 4),\n",
       " ('ˈ', 4),\n",
       " ('≤', 4),\n",
       " ('č', 4),\n",
       " ('ū', 4),\n",
       " ('ş', 4)]"
      ]
     },
     "execution_count": 51,
     "metadata": {},
     "output_type": "execute_result"
    }
   ],
   "source": [
    "unknowns.most_common(100)"
   ]
  },
  {
   "cell_type": "code",
   "execution_count": 54,
   "metadata": {},
   "outputs": [
    {
     "data": {
      "text/plain": [
       "0.0"
      ]
     },
     "execution_count": 54,
     "metadata": {},
     "output_type": "execute_result"
    }
   ],
   "source": [
    "sum([n==0 for n in num_unk]) / len(num_unk)"
   ]
  },
  {
   "cell_type": "code",
   "execution_count": 56,
   "metadata": {},
   "outputs": [
    {
     "data": {
      "text/plain": [
       "0.00036403349108117945"
      ]
     },
     "execution_count": 56,
     "metadata": {},
     "output_type": "execute_result"
    }
   ],
   "source": [
    "min(num_unk)"
   ]
  },
  {
   "cell_type": "code",
   "execution_count": null,
   "metadata": {},
   "outputs": [],
   "source": []
  }
 ],
 "metadata": {
  "environment": {
   "name": "tf2-2-2-gpu.2-2.m49",
   "type": "gcloud",
   "uri": "gcr.io/deeplearning-platform-release/tf2-2-2-gpu.2-2:m49"
  },
  "kernelspec": {
   "display_name": "Python 3",
   "language": "python",
   "name": "python3"
  },
  "language_info": {
   "codemirror_mode": {
    "name": "ipython",
    "version": 3
   },
   "file_extension": ".py",
   "mimetype": "text/x-python",
   "name": "python",
   "nbconvert_exporter": "python",
   "pygments_lexer": "ipython3",
   "version": "3.7.6"
  }
 },
 "nbformat": 4,
 "nbformat_minor": 4
}
